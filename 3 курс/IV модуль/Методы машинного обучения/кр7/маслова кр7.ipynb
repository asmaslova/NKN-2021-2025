{
 "cells": [
  {
   "cell_type": "markdown",
   "metadata": {},
   "source": [
    "### РОССИЙСКИЙ УНИВЕРСИТЕТ ДРУЖБЫ НАРОДОВ\n",
    "\n",
    "#### Факультет физико-математических и естественных наук  \n",
    "#### Кафедра математического моделирования и искусственного интеллекта \n",
    "## ОТЧЕТ ПО КОНТРОЛЬНОЙ РАБОТЕ № 7\n",
    "\n",
    "\n",
    "### Дисциплина: Методы машинного обучения\n",
    "##### Студент:  Маслова Анастасия\n",
    "##### Группа:   НКНбд-01-21\n",
    "## Москва 2024\n",
    "***\n",
    "Вариант 29 \n",
    "\n",
    "1. Набор данных: imagenette/160px-v2 с изменением разрешения до 32х32 \n",
    "\n",
    "2. Диапазон классов: 0, 2, 4, 6 \n",
    "\n",
    "3. Архитектура автокодировщика: MLP \n",
    "\n",
    "4. Показатель качества: максимальная ошибка (MaxErr) для ошибки реконструкции \n",
    "\n",
    "5. Показатель качества бинарной классификации: \n",
    "\n",
    "индекс Жаккара, равный TP/(TP + FP + FN) \n",
    "\n",
    "### Решение"
   ]
  },
  {
   "cell_type": "code",
   "execution_count": 1,
   "metadata": {},
   "outputs": [],
   "source": [
    "import numpy as np\n",
    "import matplotlib.pyplot as plt\n",
    "import tensorflow.keras as keras\n",
    "import pandas as pd\n",
    "import time\n",
    "import sys\n",
    "\n",
    "from tensorflow.keras.layers import Input, Dense\n",
    "from tensorflow.keras.models import Model\n",
    "\n",
    "import tensorflow as tf"
   ]
  },
  {
   "cell_type": "code",
   "execution_count": null,
   "metadata": {},
   "outputs": [],
   "source": []
  }
 ],
 "metadata": {
  "kernelspec": {
   "display_name": "Python 3",
   "language": "python",
   "name": "python3"
  },
  "language_info": {
   "name": "python",
   "version": "3.11.5"
  }
 },
 "nbformat": 4,
 "nbformat_minor": 2
}
