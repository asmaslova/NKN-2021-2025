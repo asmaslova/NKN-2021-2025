{
 "cells": [
  {
   "cell_type": "markdown",
   "metadata": {},
   "source": [
    "### РОССИЙСКИЙ УНИВЕРСИТЕТ ДРУЖБЫ НАРОДОВ\n",
    "\n",
    "#### Факультет физико-математических и естественных наук  \n",
    "#### Кафедра математического моделирования и искусственного интеллекта \n",
    "## ОТЧЕТ ПО КОНТРОЛЬНОЙ РАБОТЕ № 5\n",
    "\n",
    "\n",
    "### Дисциплина: Методы машинного обучения\n",
    "##### Студент:  Маслова Анастасия\n",
    "##### Группа:   НКНбд-01-21\n",
    "## Москва 2024\n",
    "***\n",
    "Вариант 19 \n",
    "\n",
    "1. Набор данных stl10 \n",
    "\n",
    "2. Классы с метками 2,4,6 \n",
    "\n",
    "3. Требования к архитектуре сети MLP: \n",
    "\n",
    "Кол-во скрытых слоев 5 \n",
    "\n",
    "Кол-во нейронов 60 в первом скрытом слое, увеличивающееся на 10 с каждым последующим скрытым слоем \n",
    "\n",
    "Оптимизатор Adagrad \n",
    "\n",
    "Функция активации в скрытых слоях relu \n",
    "\n",
    "Регуляризация L1 в каждом четном скрытом слое \n",
    "\n",
    "4. Требования к архитектуре сети CNN: \n",
    "\n",
    "Кол-во слоев пулинга 2 \n",
    "\n",
    "Количество фильтров в сверточных слоях 32 \n",
    "\n",
    "Размеры фильтра 3х3 \n",
    "\n",
    "Оптимизатор RMSprop \n",
    "\n",
    "Функция активации в сверточных слоях swish \n",
    "\n",
    "Функция активации в скрытых плотных слоях leaky_relu \n",
    "\n",
    "Регуляризация L2 в каждом скрытом плотном слое \n",
    "\n",
    "5. Показатель качества бинарной классификации: \n",
    "\n",
    "индекс Rand, равный (TP + TN)/(TP + TN + FP + FN) \n",
    "\n",
    "6. Показатель качества многоклассовой классификации: \n",
    "\n",
    "минимальная точность классов, где точность (precision) класса равна доле правильных предсказаний для всех точек, относимых классификатором к этому классу. \n",
    "### Решение"
   ]
  },
  {
   "cell_type": "code",
   "execution_count": 1,
   "metadata": {},
   "outputs": [],
   "source": [
    "import numpy as np\n",
    "import matplotlib.pyplot as plt\n",
    "import pandas as pd\n",
    "import tensorflow as tf\n",
    "import tensorflow_datasets as tfds"
   ]
  },
  {
   "cell_type": "code",
   "execution_count": 2,
   "metadata": {},
   "outputs": [
    {
     "name": "stdout",
     "output_type": "stream",
     "text": [
      "\u001b[1mDownloading and preparing dataset Unknown size (download: Unknown size, generated: Unknown size, total: Unknown size) to C:\\Users\\anast\\tensorflow_datasets\\stl10\\1.0.0...\u001b[0m\n"
     ]
    },
    {
     "data": {
      "application/vnd.jupyter.widget-view+json": {
       "model_id": "75791d2eff0e4ca9aadb724373a4df57",
       "version_major": 2,
       "version_minor": 0
      },
      "text/plain": [
       "Dl Completed...: 0 url [00:00, ? url/s]"
      ]
     },
     "metadata": {},
     "output_type": "display_data"
    },
    {
     "data": {
      "application/vnd.jupyter.widget-view+json": {
       "model_id": "3fc04961ebce4914b465d94eb638d4f3",
       "version_major": 2,
       "version_minor": 0
      },
      "text/plain": [
       "Dl Size...: 0 MiB [00:00, ? MiB/s]"
      ]
     },
     "metadata": {},
     "output_type": "display_data"
    },
    {
     "data": {
      "application/vnd.jupyter.widget-view+json": {
       "model_id": "b9595580245243b4bec797dd4c8e8c78",
       "version_major": 2,
       "version_minor": 0
      },
      "text/plain": [
       "Extraction completed...: 0 file [00:00, ? file/s]"
      ]
     },
     "metadata": {},
     "output_type": "display_data"
    }
   ],
   "source": [
    "ds_train = tfds.load(\"stl10\", split='train')\n",
    "df_train = tfds.as_dataframe(ds_train)\n",
    "df_train.head(3)"
   ]
  },
  {
   "cell_type": "code",
   "execution_count": null,
   "metadata": {},
   "outputs": [],
   "source": []
  }
 ],
 "metadata": {
  "kernelspec": {
   "display_name": "base",
   "language": "python",
   "name": "python3"
  },
  "language_info": {
   "codemirror_mode": {
    "name": "ipython",
    "version": 3
   },
   "file_extension": ".py",
   "mimetype": "text/x-python",
   "name": "python",
   "nbconvert_exporter": "python",
   "pygments_lexer": "ipython3",
   "version": "3.11.5"
  }
 },
 "nbformat": 4,
 "nbformat_minor": 2
}
