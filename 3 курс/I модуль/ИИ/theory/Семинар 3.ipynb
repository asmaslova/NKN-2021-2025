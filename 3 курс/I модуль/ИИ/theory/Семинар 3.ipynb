{
 "cells": [
  {
   "cell_type": "markdown",
   "id": "40f8a6cf",
   "metadata": {},
   "source": [
    "__ДЗ 3__ https://contest.yandex.ru/contest/30239/problems/"
   ]
  },
  {
   "cell_type": "markdown",
   "id": "cea8c483",
   "metadata": {},
   "source": [
    "# Работа с файлами"
   ]
  },
  {
   "cell_type": "markdown",
   "id": "7d101350",
   "metadata": {},
   "source": [
    "Для открытия файлов в python используется встроенная команда open:"
   ]
  },
  {
   "cell_type": "code",
   "execution_count": 5,
   "id": "59583b8f",
   "metadata": {},
   "outputs": [],
   "source": [
    "f = open('input.txt', 'w+')"
   ]
  },
  {
   "cell_type": "markdown",
   "id": "2ad9c271",
   "metadata": {},
   "source": [
    "Функция open() принимает 2 основных аргумента:\n",
    "\n",
    "- первый аргумент file - это имя файла, т.е. путь к файлу, который мы хотим открыть, путь может быть как абсолютный, так и относительный, как и в ОС Windows.\n",
    "- второй аргумент mode - это режим работы с файлом: для чтения, записи, перезаписи и пр.\n",
    "\n",
    "Обозначение режимов работы с фалом:\n",
    "\n",
    "- 'r' открытие на чтение (является значением по умолчанию).\n",
    "- 'w' открытие на запись, содержимое файла удаляется, создается новый пустой файл.\n",
    "- 'x' открытие на запись, если файла не существует, иначе исключение.\n",
    "- 'a' открытие на дозапись, информация добавляется в конец файла.\n",
    "- 'b' открытие в двоичном режиме.\n",
    "- 't' открытие в текстовом режиме (является значением по умолчанию).\n",
    "- '+' открытие на чтение и запись"
   ]
  },
  {
   "cell_type": "markdown",
   "id": "99d719ac",
   "metadata": {},
   "source": [
    "В python файл представляется идентификатором и вся дальнейшая работа с этим файлом связана с его идентификатором:"
   ]
  },
  {
   "cell_type": "code",
   "execution_count": 18,
   "id": "3d360bed",
   "metadata": {},
   "outputs": [
    {
     "name": "stdout",
     "output_type": "stream",
     "text": [
      "<_io.TextIOWrapper name='input.txt' mode='r' encoding='cp1251'>\n"
     ]
    }
   ],
   "source": [
    "f = open('input.txt', 'r')\n",
    "print(f)"
   ]
  },
  {
   "cell_type": "markdown",
   "id": "e4a22c48",
   "metadata": {},
   "source": [
    "# Чтение из файла"
   ]
  },
  {
   "cell_type": "markdown",
   "id": "33df2503",
   "metadata": {},
   "source": [
    "Существует 3 основных способа чтения информации из текстового файла:\n",
    "\n",
    "1. Чтение всей информации целиком с помощью функции read()"
   ]
  },
  {
   "cell_type": "code",
   "execution_count": 16,
   "id": "c353f7a1",
   "metadata": {},
   "outputs": [
    {
     "name": "stdout",
     "output_type": "stream",
     "text": [
      "First line\n",
      "Second line\n",
      "Third line\n",
      "End line\n"
     ]
    }
   ],
   "source": [
    "msg = f.read()\n",
    "print(msg)"
   ]
  },
  {
   "cell_type": "markdown",
   "id": "32f814c0",
   "metadata": {},
   "source": [
    "2. Чтение информации построчно с помощью функции цикла for"
   ]
  },
  {
   "cell_type": "code",
   "execution_count": 19,
   "id": "c37bf0ef",
   "metadata": {},
   "outputs": [
    {
     "name": "stdout",
     "output_type": "stream",
     "text": [
      "First line\n",
      "\n",
      "Second line\n",
      "\n",
      "Third line\n",
      "\n",
      "End line\n"
     ]
    }
   ],
   "source": [
    "for line in f:\n",
    "    print(line)"
   ]
  },
  {
   "cell_type": "markdown",
   "id": "c21141ef",
   "metadata": {},
   "source": [
    "В выводе присутствуют все переводы строк, как и в файле. Дополнительные переводы строк обусловлены стандартным поведением функции print().\n",
    "\n",
    "3. Чтение всех строк одним списком с помощью функции readlines()"
   ]
  },
  {
   "cell_type": "code",
   "execution_count": 11,
   "id": "1f1a89d7",
   "metadata": {},
   "outputs": [],
   "source": [
    "lines = f.readlines()\n",
    "for line in lines:\n",
    "    print(line)"
   ]
  },
  {
   "cell_type": "markdown",
   "id": "ba4eaa91",
   "metadata": {},
   "source": [
    "Существует также функция readline(), позволяющая считать лишь одну строчку а не все сразу."
   ]
  },
  {
   "cell_type": "markdown",
   "id": "b09a87fd",
   "metadata": {},
   "source": [
    "# Запись в файл"
   ]
  },
  {
   "cell_type": "markdown",
   "id": "0c2cb234",
   "metadata": {},
   "source": [
    "Первым делом для записи в файл его нужно открыть в режиме записи:"
   ]
  },
  {
   "cell_type": "code",
   "execution_count": 20,
   "id": "41e6ea84",
   "metadata": {},
   "outputs": [
    {
     "name": "stdout",
     "output_type": "stream",
     "text": [
      "<_io.TextIOWrapper name='input.txt' mode='w' encoding='cp1251'>\n"
     ]
    }
   ],
   "source": [
    "f = open('input.txt', 'w')\n",
    "print(f)"
   ]
  },
  {
   "cell_type": "markdown",
   "id": "76f4d043",
   "metadata": {},
   "source": [
    "Запись в файл осуществляется с помощью метода write:"
   ]
  },
  {
   "cell_type": "code",
   "execution_count": 21,
   "id": "21d1a0c6",
   "metadata": {},
   "outputs": [
    {
     "data": {
      "text/plain": [
       "13"
      ]
     },
     "execution_count": 21,
     "metadata": {},
     "output_type": "execute_result"
    }
   ],
   "source": [
    "msg = \"Write to file\"\n",
    "f.write(msg)"
   ]
  },
  {
   "cell_type": "markdown",
   "id": "ff6d5bb6",
   "metadata": {},
   "source": [
    "Функции write принимает строковый аргумент - данные для записи, и возвращает число записанных символов.\n",
    "\n",
    "После записи файл обязательно нужно закрыть:"
   ]
  },
  {
   "cell_type": "code",
   "execution_count": 22,
   "id": "0cb4c315",
   "metadata": {},
   "outputs": [],
   "source": [
    "f.close()"
   ]
  },
  {
   "cell_type": "markdown",
   "id": "2fc23e96",
   "metadata": {},
   "source": [
    "# With ... as - менеджер контекста"
   ]
  },
  {
   "cell_type": "markdown",
   "id": "b7ef9ca0",
   "metadata": {},
   "source": [
    "Конструкция with ... as используется для оборачивания выполнения блока инструкций. Синтаксис конструкции with ... as:"
   ]
  },
  {
   "cell_type": "code",
   "execution_count": null,
   "id": "bde7c436",
   "metadata": {},
   "outputs": [],
   "source": [
    "\"with\" expression [\"as\" target] (\",\" expression [\"as\" target])* \":\"\n",
    "    suite"
   ]
  },
  {
   "cell_type": "markdown",
   "id": "81d01e44",
   "metadata": {},
   "source": [
    "Что происходит при выполнении данного блока: \n",
    "    1. Выполняется выражение в конструкции with ... as. \n",
    "    2. Загружается специальный метод exit для дальнейшего использования. \n",
    "    3. Выполняется метод enter. Если конструкция with включает в себя слово as, то \n",
    "    возвращаемое методом enter значение записывается в переменную. \n",
    "    4. Выполняется suite. \n",
    "    5. Вызывается метод exit, причём неважно, выполнилось ли suite или произошло исключение. \n",
    "    В этот метод передаются параметры исключения, если оно произошло, или во всех аргументах значение None, если исключения не было."
   ]
  },
  {
   "cell_type": "markdown",
   "id": "855669da",
   "metadata": {},
   "source": [
    "Если в конструкции with - as было несколько выражений, то это эквивалентно нескольким вложенным конструкциям:"
   ]
  },
  {
   "cell_type": "code",
   "execution_count": null,
   "id": "476db0ce",
   "metadata": {},
   "outputs": [],
   "source": [
    "with A() as a, B() as b:\n",
    "    suite"
   ]
  },
  {
   "cell_type": "markdown",
   "id": "b159a047",
   "metadata": {},
   "source": [
    "эквивалентно"
   ]
  },
  {
   "cell_type": "code",
   "execution_count": null,
   "id": "6aecb5cc",
   "metadata": {},
   "outputs": [],
   "source": [
    "with A() as a:\n",
    "    with B() as b:\n",
    "        suite"
   ]
  },
  {
   "cell_type": "markdown",
   "id": "ae9a91a6",
   "metadata": {},
   "source": [
    "Для чего применяется конструкция with ... as? Для гарантии того, что критические функции выполнятся в любом случае. Самый распространённый пример использования этой конструкции - открытие файлов, такой способ гарантирует закрытие файла в любом случае."
   ]
  },
  {
   "cell_type": "code",
   "execution_count": 23,
   "id": "3fad50dd",
   "metadata": {},
   "outputs": [],
   "source": [
    "with open('input.txt','w') as f:\n",
    "    f.write('Write without close')"
   ]
  },
  {
   "cell_type": "code",
   "execution_count": 25,
   "id": "6c754aad",
   "metadata": {},
   "outputs": [
    {
     "name": "stdout",
     "output_type": "stream",
     "text": [
      "PICKLED: \n",
      "b'\\x80\\x04\\x95K\\x00\\x00\\x00\\x00\\x00\\x00\\x00\\x8cGAny object that you want. It can be basic python object or class object\\x94.'\n",
      "JSON:\n",
      "\"Any object that you want. It can be basic python object or class object\"\n",
      "Unpickled\n",
      "Any object that you want. It can be basic python object or class object\n",
      "UnJSONed\n",
      "Any object that you want. It can be basic python object or class object\n"
     ]
    }
   ],
   "source": [
    "import pickle \n",
    "import json\n",
    "'''\n",
    "dumps/loads - to byte string\n",
    "dump/load - to file ex: pickle.dump(simple, open('simple1.pkl', 'wb'))\n",
    "'''\n",
    "\n",
    "stroka = 'Any object that you want. It can be basic python object or class object'\n",
    "\n",
    "serialized_to_pickle = pickle.dumps(stroka)\n",
    "serialized_to_json = json.dumps(stroka)\n",
    "print(\"PICKLED: \")\n",
    "print(serialized_to_pickle)\n",
    "print(\"JSON:\")\n",
    "print(serialized_to_json)\n",
    "\n",
    "print(\"Unpickled\\n\"+pickle.loads(serialized_to_pickle))\n",
    "print(\"UnJSONed\\n\"+json.loads(serialized_to_json))"
   ]
  },
  {
   "cell_type": "markdown",
   "id": "fc2474c1",
   "metadata": {},
   "source": [
    "# ООП в Python"
   ]
  },
  {
   "cell_type": "markdown",
   "id": "9a7b55a0",
   "metadata": {},
   "source": [
    "Объектно-ориентированное программирование (ООП) — парадигма программирования, базирующаяся на понятиях объектов и классов.\n",
    "\n",
    "- Класс — тип, описывающий внутреннее устройство объектов\n",
    "- Объект — пример, экземпляр класса. Класс можно сравнить с чертежом, по которому создаются объекты"
   ]
  },
  {
   "cell_type": "code",
   "execution_count": 35,
   "id": "4d3adc35",
   "metadata": {},
   "outputs": [],
   "source": [
    "class Point:\n",
    "    def __init__(self,x,y):\n",
    "        self.x = x\n",
    "        self.y = y"
   ]
  },
  {
   "cell_type": "markdown",
   "id": "4c6785b1",
   "metadata": {},
   "source": [
    "Метод init является констуктором класса (по-умолчанию, пустой) и вызывается при создании нового объекта данного класса."
   ]
  },
  {
   "cell_type": "code",
   "execution_count": 29,
   "id": "39f90d72",
   "metadata": {},
   "outputs": [
    {
     "name": "stdout",
     "output_type": "stream",
     "text": [
      "<__main__.Point object at 0x0000021FBD6F5220>\n",
      "1 2\n",
      "5 2\n"
     ]
    }
   ],
   "source": [
    "a = Point(1,2)\n",
    "b = Point(5,2)\n",
    "print(a)\n",
    "print(a.x,a.y)\n",
    "print(b.x,b.y)"
   ]
  },
  {
   "cell_type": "markdown",
   "id": "37b80306",
   "metadata": {},
   "source": [
    "# Парадигмы ООП"
   ]
  },
  {
   "cell_type": "markdown",
   "id": "53222ed4",
   "metadata": {},
   "source": [
    "Существует 3 основные парадигмы объекто-ориентированного программирования.\n",
    "\n",
    "1.Инкапсуляция\n",
    "\n",
    "В общем случае под инкапсуляцией понимается языковая конструкция, позволяющая связать данные с методами, предназначенными для обработки этих данных с возможным ограничением доступа к данным."
   ]
  },
  {
   "cell_type": "code",
   "execution_count": 30,
   "id": "369d5105",
   "metadata": {},
   "outputs": [],
   "source": [
    "class Point:\n",
    "    def __init__(self,x,y):\n",
    "        self.x = _x    # переменная х будет скрытой, если написать __x\n",
    "        self.y = _y    # переменная у будет скрытой, если написать __у"
   ]
  },
  {
   "cell_type": "markdown",
   "id": "e7b87efe",
   "metadata": {},
   "source": [
    "2.Наследование\n",
    "\n",
    "Наследование подразумевает то, что дочерний класс содержит все атрибуты родительского класса, при этом некоторые из них могут быть переопределены или добавлены в дочернем."
   ]
  },
  {
   "cell_type": "code",
   "execution_count": 36,
   "id": "1262e0fb",
   "metadata": {},
   "outputs": [],
   "source": [
    "import matplotlib.pyplot as plt\n",
    "%matplotlib inline\n",
    "\n",
    "class Figure:\n",
    "    def draw(self): pass\n"
   ]
  },
  {
   "cell_type": "code",
   "execution_count": 37,
   "id": "74940d90",
   "metadata": {},
   "outputs": [],
   "source": [
    "class Line(Figure):\n",
    "    def __init__(self,x1,y1,x2,y2):\n",
    "        self.start = Point(x1,y1)\n",
    "        self.end = Point(x2,y2)\n",
    "    def draw(self,color=None):\n",
    "        x, y = [self.start.x, self.end.x], [self.start.y, self.end.y]\n",
    "        plt.plot(x, y, marker = 'o', color=color)\n"
   ]
  },
  {
   "cell_type": "markdown",
   "id": "a94879d3",
   "metadata": {},
   "source": [
    "Класс Line наследуется от класса Figure и переопределяет функцию для рисования на плоскости."
   ]
  },
  {
   "cell_type": "code",
   "execution_count": 38,
   "id": "0ae39c84",
   "metadata": {},
   "outputs": [
    {
     "data": {
      "image/png": "[encoded data removed]",
      "text/plain": [
       "<Figure size 432x288 with 1 Axes>"
      ]
     },
     "metadata": {
      "needs_background": "light"
     },
     "output_type": "display_data"
    }
   ],
   "source": [
    "l = Line(0,0,5,5)\n",
    "l.draw('red')"
   ]
  },
  {
   "cell_type": "markdown",
   "id": "550b7db4",
   "metadata": {},
   "source": [
    "3.Полиморфизм\n",
    "\n",
    "Полиморфизм предполагает разное поведение одного и того же метода в разных классах. Например, мы можем сложить два числа, и можем сложить две строки. При этом получим разный результат, так как числа и строки являются разными классами."
   ]
  },
  {
   "cell_type": "code",
   "execution_count": 7,
   "id": "db731b35",
   "metadata": {},
   "outputs": [
    {
     "name": "stdout",
     "output_type": "stream",
     "text": [
      "3\n",
      "12\n"
     ]
    }
   ],
   "source": [
    "print(1 + 2)\n",
    "print('1' + '2')"
   ]
  },
  {
   "cell_type": "markdown",
   "id": "4fa0e22d",
   "metadata": {},
   "source": [
    "# Учебный пример"
   ]
  },
  {
   "cell_type": "markdown",
   "id": "79741797",
   "metadata": {},
   "source": [
    "Создадим теперь классы для разных геометрических фигур на базе класса Figure."
   ]
  },
  {
   "cell_type": "code",
   "execution_count": 39,
   "id": "d5a66675",
   "metadata": {},
   "outputs": [],
   "source": [
    "class Triangle(Figure):\n",
    "    def __init__(self,x1,y1,x2,y2,x3,y3):\n",
    "        self.lines = [Line(x1,y1,x2,y2),Line(x2,y2,x3,y3),Line(x3,y3,x1,y1)]\n",
    "    def draw(self,color=None):\n",
    "        for line in self.lines:\n",
    "            line.draw(color)\n",
    "            if color==None: \n",
    "                color = plt.gca().lines[-1].get_color()  "
   ]
  },
  {
   "cell_type": "code",
   "execution_count": 40,
   "id": "ae59b296",
   "metadata": {},
   "outputs": [
    {
     "data": {
      "image/png": "[encoded data removed]",
      "text/plain": [
       "<Figure size 432x288 with 1 Axes>"
      ]
     },
     "metadata": {
      "needs_background": "light"
     },
     "output_type": "display_data"
    }
   ],
   "source": [
    "t = Triangle(2,3,2,5,4,5)\n",
    "t.draw()"
   ]
  },
  {
   "cell_type": "code",
   "execution_count": 41,
   "id": "b7c39ca9",
   "metadata": {},
   "outputs": [],
   "source": [
    "class Circle(Figure):\n",
    "    def __init__(self,x,y,r):\n",
    "        self.center = Point(x,y)\n",
    "        self.radius = r\n",
    "    def draw(self,color=None):\n",
    "        ax = plt.gca()\n",
    "        center = (self.center.x,self.center.y)\n",
    "        c = plt.Circle(center,radius=self.radius,color=color,fill=False)\n",
    "        ax.add_patch(c)"
   ]
  },
  {
   "cell_type": "code",
   "execution_count": 42,
   "id": "e5b76d9e",
   "metadata": {},
   "outputs": [
    {
     "data": {
      "image/png": "[encoded data removed]",
      "text/plain": [
       "<Figure size 432x288 with 1 Axes>"
      ]
     },
     "metadata": {
      "needs_background": "light"
     },
     "output_type": "display_data"
    }
   ],
   "source": [
    "c = Circle(0,0,1)\n",
    "c.draw('red')"
   ]
  },
  {
   "cell_type": "markdown",
   "id": "9e45a921",
   "metadata": {},
   "source": [
    "Для демонстрации полиморфизма создадим несколько объектов разных типов."
   ]
  },
  {
   "cell_type": "code",
   "execution_count": 45,
   "id": "8e60f38f",
   "metadata": {},
   "outputs": [
    {
     "data": {
      "image/png": "[encoded data removed]",
      "text/plain": [
       "<Figure size 432x288 with 1 Axes>"
      ]
     },
     "metadata": {
      "needs_background": "light"
     },
     "output_type": "display_data"
    }
   ],
   "source": [
    "import random as rand\n",
    "\n",
    "# create list of figures\n",
    "figures = []\n",
    "\n",
    "# add 2 lines\n",
    "for i in range(2):\n",
    "    figures.append(Line(10*rand.random(),10*rand.random(), \\\n",
    "                        10*rand.random(),10*rand.random()))\n",
    "    \n",
    "# add 2 triangles\n",
    "for i in range(2):\n",
    "    figures.append(Triangle(10*rand.random(),10*rand.random(), \\\n",
    "                            10*rand.random(),10*rand.random(), \\\n",
    "                            10*rand.random(),10*rand.random()))\n",
    "\n",
    "# add 2 circles\n",
    "for i in range(2):\n",
    "    figures.append(Circle(10*rand.random(),10*rand.random(),rand.randint(1,5)))\n",
    "    \n",
    "# draw all figures\n",
    "for f in figures:\n",
    "    f.draw()"
   ]
  },
  {
   "cell_type": "markdown",
   "id": "6e4ac95b",
   "metadata": {},
   "source": [
    "# Алгоритмы поиска"
   ]
  },
  {
   "cell_type": "markdown",
   "id": "32741b98",
   "metadata": {},
   "source": [
    "Поиск - задача нахождения определенного элемента (или ближайшего к нему) в массиве данных.\n",
    "\n",
    "1) Линейный поиск\n",
    "\n",
    "При линейном поиске последовательно просматривается каждый элемент массива"
   ]
  },
  {
   "cell_type": "code",
   "execution_count": 55,
   "id": "c7bfd6d1",
   "metadata": {},
   "outputs": [],
   "source": [
    "def search(A,key):\n",
    "    for i in range(len(A)):\n",
    "        if A[i]==key:\n",
    "            return True\n",
    "        else:\n",
    "            print('{0} not key'.format(A[i]))\n",
    "    else:\n",
    "        return False"
   ]
  },
  {
   "cell_type": "markdown",
   "id": "f646570d",
   "metadata": {},
   "source": [
    "Функция search(A,key) возвращает False только, если искомого элемента key не было обнаружено в списке. Поскольку в худшем случае необходимо просмотреть все элементы, то сложность алгоритма линейного поиска - O(n) - линейная."
   ]
  },
  {
   "cell_type": "code",
   "execution_count": 54,
   "id": "6208d313",
   "metadata": {},
   "outputs": [
    {
     "name": "stdout",
     "output_type": "stream",
     "text": [
      "4 not key\n",
      "2 not key\n",
      "7 not key\n",
      "3 not key\n",
      "1 not key\n",
      "5 not key\n",
      "6 not key\n"
     ]
    },
    {
     "data": {
      "text/plain": [
       "False"
      ]
     },
     "execution_count": 54,
     "metadata": {},
     "output_type": "execute_result"
    }
   ],
   "source": [
    "A = [4,2,7,3,1,5,6]\n",
    "search(A,9)"
   ]
  },
  {
   "cell_type": "markdown",
   "id": "d56d9f4f",
   "metadata": {},
   "source": [
    "__Упражнение__: модифицировать функцию так, чтобы она возвращала индекс искомого элемента в массиве и -1, если вхождения не обнаружено.\n",
    "\n",
    "2) Бинарный поиск\n",
    "\n",
    "В случае, если список элементов изначально отсортирован, искомый элемент можно найти и быстрее чем за O(n). Идея бинарного поиска заключается в последовательном делении массива пополам и выборе той половины, в которой находится искомый элемент."
   ]
  },
  {
   "cell_type": "code",
   "execution_count": 58,
   "id": "6a29e948",
   "metadata": {},
   "outputs": [],
   "source": [
    "def binary_search(A,key):\n",
    "    left = -1\n",
    "    right = len(A)\n",
    "    while right > left + 1:\n",
    "        middle = (left + right) // 2\n",
    "        if A[middle] == key:\n",
    "            return True\n",
    "        elif A[middle] < key:\n",
    "            left = middle\n",
    "        elif A[middle] > key:\n",
    "            right = middle\n",
    "    else:\n",
    "        return False"
   ]
  },
  {
   "cell_type": "markdown",
   "id": "a7b061d1",
   "metadata": {},
   "source": [
    "Алгоритм останавливается, когда left и right указывают на два соседних элемента. Таким образом, сложность алгоритма бинарного поиска - O(log(n)) - логарифмическая."
   ]
  },
  {
   "cell_type": "code",
   "execution_count": 59,
   "id": "dcd2dac9",
   "metadata": {},
   "outputs": [
    {
     "data": {
      "text/plain": [
       "True"
      ]
     },
     "execution_count": 59,
     "metadata": {},
     "output_type": "execute_result"
    }
   ],
   "source": [
    "A = [1,2,3,4,5,6,7]\n",
    "binary_search(A,3)"
   ]
  },
  {
   "cell_type": "markdown",
   "id": "792f822f",
   "metadata": {},
   "source": [
    "__Упражнение__: модифицировать функцию так, чтобы она возвращала индекс искомого элемента в массиве и -1, если вхождения не обнаружено."
   ]
  },
  {
   "cell_type": "markdown",
   "id": "ec193ba7",
   "metadata": {},
   "source": [
    "# Алгоритмы сортировки"
   ]
  },
  {
   "cell_type": "markdown",
   "id": "dd108ebd",
   "metadata": {},
   "source": [
    "__Сортировка__ - задача упорядочивания элементов в массиве.\n",
    "\n",
    "1) Сортировка выбором\n",
    "\n",
    "Сортировка выбором - один из наиболее наивных подходов к сортировке, в нем последовательно ищется наименьший элемент массива и ставится в начало, затем ищется наименьший из оставшихся элементов и ставится на следующее место и т.д."
   ]
  },
  {
   "cell_type": "code",
   "execution_count": 60,
   "id": "9319bf20",
   "metadata": {},
   "outputs": [],
   "source": [
    "def selection_sort(A):\n",
    "    for i in range(len(A)-1):\n",
    "        min_id = i\n",
    "        for j in range(i+1,len(A)):\n",
    "            if A[j] < A[min_id]: min_id = j\n",
    "        A[i], A[min_id] = A[min_id], A[i]\n",
    "    return A"
   ]
  },
  {
   "cell_type": "markdown",
   "id": "e2b83797",
   "metadata": {},
   "source": [
    "На каждом шаге поэлементного цикла for линейным поиском решается задача поиска минимального элемента, следовательно, общая сложность алгоритма - O(n^2) - квадратичная."
   ]
  },
  {
   "cell_type": "code",
   "execution_count": 61,
   "id": "7bd3973e",
   "metadata": {},
   "outputs": [
    {
     "data": {
      "text/plain": [
       "[1, 2, 3, 4, 5, 6, 7]"
      ]
     },
     "execution_count": 61,
     "metadata": {},
     "output_type": "execute_result"
    }
   ],
   "source": [
    "A = [4,2,7,3,1,5,6]\n",
    "selection_sort(A)"
   ]
  },
  {
   "cell_type": "markdown",
   "id": "dbef8ec4",
   "metadata": {},
   "source": [
    "2) Сортировка \"пузырёк\"\n",
    "\n",
    "Пузырьковая сортировка предполагает последовательное переприсваивание соседних неупорядоченных элементов до тех пор, пока наибольший элемент не окажется в самом конце списка."
   ]
  },
  {
   "cell_type": "code",
   "execution_count": 62,
   "id": "58386fd2",
   "metadata": {},
   "outputs": [],
   "source": [
    "def bubble_sort(A):\n",
    "    for i in range(len(A)):\n",
    "        for j in range(0,len(A)-i-1):\n",
    "            if A[j] > A[j+1]:\n",
    "                A[j],A[j+1] = A[j+1],A[j]\n",
    "    return A"
   ]
  },
  {
   "cell_type": "markdown",
   "id": "6b45ff25",
   "metadata": {},
   "source": [
    "На каждом шаге алгоритма наибольший элемент \"всплывает\" в конец массива, таким образом, после завершения алгоритма весь массив отсортируется по неубыванию. Сложность алгоритма сортировки пузырьком - O(n^2)."
   ]
  },
  {
   "cell_type": "code",
   "execution_count": 63,
   "id": "f0eeb5ed",
   "metadata": {},
   "outputs": [
    {
     "data": {
      "text/plain": [
       "[1, 2, 3, 4, 5, 6, 7]"
      ]
     },
     "execution_count": 63,
     "metadata": {},
     "output_type": "execute_result"
    }
   ],
   "source": [
    "A = [4,2,7,3,1,5,6]\n",
    "bubble_sort(A)"
   ]
  },
  {
   "cell_type": "markdown",
   "id": "5f632522",
   "metadata": {},
   "source": [
    "__Упражнение__: Сравнить алгоритмы сортировки выбором и пузырьком по сложности, времени выполнения и количеству операций обмена значений между двумя элементами.\n",
    "\n",
    "3) Сортировка вставками\n",
    "\n",
    "Начиная со второго каждый следующий элемент массива вставляется в уже отсортированное начало путем поиска подходящей позиции, а все элементы справа от этой позиции сдвигаются вправо."
   ]
  },
  {
   "cell_type": "code",
   "execution_count": 68,
   "id": "c4e61d70",
   "metadata": {},
   "outputs": [],
   "source": [
    "def insertion_sort(A):\n",
    "    for i in range(1,len(A)):\n",
    "        new = A[i]\n",
    "        j = i-1\n",
    "        while j>=0 and A[j] > new:\n",
    "            A[j+1] = A[j]\n",
    "            j = j - 1\n",
    "        else:\n",
    "            A[j+1] = new\n",
    "    return A"
   ]
  },
  {
   "cell_type": "markdown",
   "id": "033d5fdf",
   "metadata": {},
   "source": [
    "В лучшем случае, т.е. когда массив изначально упорядочен, сложность алгоритма сортировки вставками линейная - O(n), однако в худшем случе, когда массив изначально отсортирован в обратном порядке, сложность возрастает до квадратичной - O(n^2). Поэтому сортировка вставками эффективна лишь для упорядоченных и почти упорядоченных наборов данных.\n",
    "\n"
   ]
  },
  {
   "cell_type": "code",
   "execution_count": 27,
   "id": "d7337ccf",
   "metadata": {},
   "outputs": [
    {
     "data": {
      "text/plain": [
       "[1, 2, 3, 4, 5, 6, 7]"
      ]
     },
     "execution_count": 27,
     "metadata": {},
     "output_type": "execute_result"
    }
   ],
   "source": [
    "A = [4,2,7,3,1,5,6]\n",
    "insertion_sort(A)"
   ]
  },
  {
   "cell_type": "markdown",
   "id": "16d63ae0",
   "metadata": {},
   "source": [
    "4) Сортировка слиянием\n",
    "\n",
    "Сортировка слиянием основана на идее, что два отсортированных списка можно слить в один отсортированный список за линейное время, равное суммарной длине этих списков."
   ]
  },
  {
   "cell_type": "code",
   "execution_count": 64,
   "id": "a5624b81",
   "metadata": {},
   "outputs": [],
   "source": [
    "def merge(A,B):\n",
    "    res = list()\n",
    "    i,j = 0,0\n",
    "    while i < len(A) and j < len(B):\n",
    "        if A[i] < B[j]:\n",
    "            res.append(A[i])\n",
    "            i = i + 1\n",
    "        else:\n",
    "            res.append(B[j])\n",
    "            j = j + 1\n",
    "    res.extend(A[i:])\n",
    "    res.extend(B[j:])\n",
    "    return res"
   ]
  },
  {
   "cell_type": "markdown",
   "id": "a953c0a5",
   "metadata": {},
   "source": [
    "Изначально сравниваются два первых элемента списков A и B, меньший из них сразу записывается в ответ, а соответствующий ему индекс сдвигается на следующий элемент. Таким образом, за один проход по списку A и списку B создается новый массив из всех элементов."
   ]
  },
  {
   "cell_type": "code",
   "execution_count": 65,
   "id": "beb4e96d",
   "metadata": {},
   "outputs": [
    {
     "data": {
      "text/plain": [
       "[1, 2, 3, 4, 5, 6, 7]"
      ]
     },
     "execution_count": 65,
     "metadata": {},
     "output_type": "execute_result"
    }
   ],
   "source": [
    "A = [1,3,5,7]\n",
    "B = [2,4,6]\n",
    "merge(A,B)"
   ]
  },
  {
   "cell_type": "markdown",
   "id": "0d5aec8c",
   "metadata": {},
   "source": [
    "Перейдем теперь непосредственно к сортировке слиянием. "
   ]
  },
  {
   "cell_type": "code",
   "execution_count": 66,
   "id": "a4d67ef4",
   "metadata": {},
   "outputs": [],
   "source": [
    "def merge_sort(A):\n",
    "    if len(A)==1:\n",
    "        return A\n",
    "    else:\n",
    "        Left = A[:len(A)//2]\n",
    "        Right = A[len(A)//2:]\n",
    "        return merge(merge_sort(Left),merge_sort(Right))"
   ]
  },
  {
   "cell_type": "markdown",
   "id": "b82bfaf4",
   "metadata": {},
   "source": [
    "Исходный список делится пополам, каждая часть сортируется отдельно этой же рекурсивной функцией, затем результат каждой из сортировок сливается с помощью функции merge()."
   ]
  },
  {
   "cell_type": "code",
   "execution_count": 69,
   "id": "259cc2b7",
   "metadata": {},
   "outputs": [
    {
     "data": {
      "text/plain": [
       "[1, 2, 3, 4, 5, 6, 7]"
      ]
     },
     "execution_count": 69,
     "metadata": {},
     "output_type": "execute_result"
    }
   ],
   "source": [
    "A = [4,2,7,3,1,5,6]\n",
    "insertion_sort(A)"
   ]
  },
  {
   "cell_type": "markdown",
   "id": "73d8db0b",
   "metadata": {},
   "source": [
    "Аналогично бинарному поиску, количество делений пополам определяется логарифмом от длины массива, но при каждом делении дополнительно выполняется слияние списков, следовательно итоговая сложность алгоритма - O(n*log(n)).\n",
    "\n",
    "5) Быстрая сортировка (Qsort)\n",
    "\n",
    "- https://ru.wikipedia.org/wiki/Быстрая_сортировка\n",
    "- https://habrahabr.ru/sandbox/29775/\n",
    "Является стандартной встроенной сортировкой в C++.\n",
    "\n",
    "6) Гибридная сортировка Тима Петерсона (Timsort)\n",
    "\n",
    "- https://ru.wikipedia.org/wiki/Timsort\n",
    "- https://habrahabr.ru/company/infopulse/blog/133303/\n",
    "Является стандартной встроенной сортировкой в python."
   ]
  }
 ],
 "metadata": {
  "kernelspec": {
   "display_name": "Python 3",
   "language": "python",
   "name": "python3"
  },
  "language_info": {
   "codemirror_mode": {
    "name": "ipython",
    "version": 3
   },
   "file_extension": ".py",
   "mimetype": "text/x-python",
   "name": "python",
   "nbconvert_exporter": "python",
   "pygments_lexer": "ipython3",
   "version": "3.8.8"
  }
 },
 "nbformat": 4,
 "nbformat_minor": 5
}
