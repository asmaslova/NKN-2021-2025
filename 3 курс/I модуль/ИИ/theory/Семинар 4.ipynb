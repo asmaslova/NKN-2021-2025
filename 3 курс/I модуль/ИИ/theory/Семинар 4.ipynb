{
 "cells": [
  {
   "cell_type": "markdown",
   "id": "94044452",
   "metadata": {},
   "source": [
    "# ДЗ: \n",
    "Контест №4 https://contest.yandex.ru/contest/49635/enter/"
   ]
  },
  {
   "cell_type": "markdown",
   "id": "92018c15",
   "metadata": {},
   "source": [
    "# Структуры данных"
   ]
  },
  {
   "cell_type": "markdown",
   "id": "2336250e",
   "metadata": {},
   "source": [
    "__Абстрактный тип данных__ — это тип данных, который предоставляет определённый набор функций для работы с элементами этого типа, а также возможность создавать элементы этого типа при помощи специальных функций."
   ]
  },
  {
   "cell_type": "markdown",
   "id": "fa489596",
   "metadata": {},
   "source": [
    "Причем АТД определяет лишь набор необходимых функций и их назначения, а внутреннее устройство функций скрыто от пользователя и меняется в зависимости от конкретных реализаций."
   ]
  },
  {
   "cell_type": "markdown",
   "id": "08471425",
   "metadata": {},
   "source": [
    "__Структура данных__ - это программная реализация абстрактного типа данных, включающая реализацию функциий для работы с однотипными элементами: хранение, добавление, удаление и пр."
   ]
  },
  {
   "cell_type": "markdown",
   "id": "e7166296",
   "metadata": {},
   "source": [
    "# Стек (Stack)"
   ]
  },
  {
   "cell_type": "markdown",
   "id": "83bd7d3a",
   "metadata": {},
   "source": [
    "__Стек__ - структура данных, в которой элементы хранятся в виде последовательности, причем в каждый момент времени имеется доступ лишь к одному элементу из последовательности, который был добавлен в стек последним."
   ]
  },
  {
   "cell_type": "markdown",
   "id": "53b507b4",
   "metadata": {},
   "source": [
    "Стек является структурой данных типа LIFO (Last In, First Out) и поддерживает следующие операции с элементами:\n",
    "\n",
    "- push — добавление элемента в конец стека.\n",
    "- pop — удаление «верхнего» элемента и возвращение его значения.\n",
    "- top — значение последнего элемента в стеке (без удаления). Может отсутствовать.\n",
    "- size — возвращает количество элементов в стеке.\n",
    "- сlear — очистка стека. Удаляет из стека все элементы."
   ]
  },
  {
   "cell_type": "code",
   "execution_count": 2,
   "id": "0a63a221",
   "metadata": {},
   "outputs": [],
   "source": [
    "# Stack realization\n",
    "class Stack:\n",
    "    def __init__(self):\n",
    "        self.myList = []\n",
    "        \n",
    "    def push(self, elem):\n",
    "        self.myList.append(elem)\n",
    "    \n",
    "    def pop(self):\n",
    "        return self.myList.pop()\n",
    "\n",
    "    def top(self):\n",
    "        return self.myList[-1]\n",
    "\n",
    "    def size(self):\n",
    "        return len(self.myList)\n",
    "    \n",
    "    def clear(self):\n",
    "        self.myList.clear()"
   ]
  },
  {
   "cell_type": "markdown",
   "id": "a72068b3",
   "metadata": {},
   "source": [
    "Стек описывается классом Stack с внутренней переменной myList типа list для хранения элементов. Соответственно все операции производятся именно с внутренней переменной myList. Для использования стека создадим переменную класса Stack и будем обращаться к ее методам:"
   ]
  },
  {
   "cell_type": "code",
   "execution_count": 3,
   "id": "0cbb292b",
   "metadata": {},
   "outputs": [
    {
     "name": "stdout",
     "output_type": "stream",
     "text": [
      "3\n",
      "5\n",
      "0\n"
     ]
    }
   ],
   "source": [
    "myStack = Stack()        # создаем стек \n",
    "myStack.push(1)          # добавляем элемент 1\n",
    "myStack.push(2)          # добавляем элемент 2\n",
    "myStack.push(5)          # добавляем элемент 5\n",
    "print(myStack.size())    # запрашиваем длинну стека -> 3\n",
    "print(myStack.pop())     # запрашиваем последний элемент с удалением из стека -> 5\n",
    "myStack.clear()          # очищаем стек\n",
    "print(myStack.size())    # снова запрашиваем длинну стека -> 0"
   ]
  },
  {
   "cell_type": "markdown",
   "id": "b6963a28",
   "metadata": {},
   "source": [
    "# Очередь (Queue)"
   ]
  },
  {
   "cell_type": "markdown",
   "id": "2b7c91e2",
   "metadata": {},
   "source": [
    "__Очередь__ - структура данных, в которой элементы хранятся в виде последовательности и первым из очереди удаляется тот элемент, который был первым добавлен.\n",
    "\n",
    "Очередь является структурой данных типа FIFO (First In, First Out) и поддерживает те же операции, что и стек за исключением того, что операции pop() и top() работают с другим концом списка."
   ]
  },
  {
   "cell_type": "code",
   "execution_count": 4,
   "id": "0c8dc45b",
   "metadata": {},
   "outputs": [],
   "source": [
    "# Queue realization\n",
    "class Queue:\n",
    "    def __init__(self):\n",
    "        self.myList = []\n",
    "        self.queueStart = 0\n",
    "        \n",
    "    def push(self, elem):\n",
    "        self.myList.append(elem)\n",
    "    \n",
    "    def pop(self):\n",
    "        res = self.myList[self.queueStart]\n",
    "        self.queueStart += 1\n",
    "        if self.queueStart > len(self.myList)/2:\n",
    "            self.myList = self.mylist[Queuestart:]\n",
    "            self.queueStart = 0\n",
    "        return res\n",
    "\n",
    "    def top(self):\n",
    "        return self.myList[self.queueStart]\n",
    "\n",
    "    def size(self):\n",
    "        return len(self.myList) - self.queueStart\n",
    "    \n",
    "    def clear(self):\n",
    "        self.myList.clear()\n",
    "        self.queueStart = 0"
   ]
  },
  {
   "cell_type": "markdown",
   "id": "8b91c1ee",
   "metadata": {},
   "source": [
    "Очередь описывается классом Queue с внутренними переменными myList типа list для хранения элементов и queueStart типа int для хранения индекса начала очереди. При каждой операции pop() индекс начала очереди смещается, при достижении середины списка, начало очищается от лишних элементов."
   ]
  },
  {
   "cell_type": "code",
   "execution_count": 5,
   "id": "b5a19ae5",
   "metadata": {},
   "outputs": [
    {
     "name": "stdout",
     "output_type": "stream",
     "text": [
      "3\n",
      "1\n",
      "0\n"
     ]
    }
   ],
   "source": [
    "myQueue = Queue()        # создаем очередь \n",
    "myQueue.push(1)          # добавляем элемент 1\n",
    "myQueue.push(2)          # добавляем элемент 2\n",
    "myQueue.push(5)          # добавляем элемент 5\n",
    "print(myQueue.size())    # запрашиваем длинну очереди -> 3\n",
    "print(myQueue.pop())     # запрашиваем первый элемент с удалением из стека -> 1\n",
    "myQueue.clear()          # очищаем очередь\n",
    "print(myQueue.size())    # снова запрашиваем длинну очереди -> 0"
   ]
  },
  {
   "cell_type": "markdown",
   "id": "c890c7a7",
   "metadata": {},
   "source": [
    "# Дек (Deque)"
   ]
  },
  {
   "cell_type": "markdown",
   "id": "7061283f",
   "metadata": {},
   "source": [
    "__Дек (от англ. double-ended queue)__ - это структура данных, похожая на очередь, но в которой операции удаления и добавления элементов можно проводить как с левым концом очереди, так и с правым."
   ]
  },
  {
   "cell_type": "markdown",
   "id": "d93307b2",
   "metadata": {},
   "source": [
    "В модуле collections языка Python есть класс deque, содержащий реализацию стандартного дека. У этого класса есть следующие методы:\n",
    "\n",
    "- append(x) — добавление элемента в конец дека (справа).\n",
    "- appendleft(x) — добавление элемента в начало дека (слева).\n",
    "- pop() — удаление последнего (правого) элемента, возвращает значение удаляемого элемента.\n",
    "- popleft() — удаление первого (левого) элемента, возвращает значение удаляемого элемента.\n",
    "- сlear() — очистка дека, удаляет из все элементы.\n",
    "- rotate(n) — циклический сдвиг на n элементов вправо, эквивалентно n-кратному повторению операции удаления элемента справа и добавлению его слева. Аналогично, при n < 0 — сдвиг влево на |n|элементов."
   ]
  },
  {
   "cell_type": "code",
   "execution_count": 6,
   "id": "6dc54a07",
   "metadata": {},
   "outputs": [
    {
     "name": "stdout",
     "output_type": "stream",
     "text": [
      "3\n",
      "2\n",
      "5\n",
      "0\n"
     ]
    }
   ],
   "source": [
    "from collections import deque\n",
    "d = deque()             # создаем дек\n",
    "d.append(1)             # добавляем элемент 1 справа\n",
    "d.append(2)             # добавляем элемент 2 справа\n",
    "d.appendleft(5)         # добавляем элемент 5 слева\n",
    "print(len(d))           # запрашиваем длинну очереди -> 3\n",
    "print(d.pop())          # запрашиваем правый элемент с удалением -> 2\n",
    "print(d.popleft())      # запрашиваем левый элемент с удалением -> 5\n",
    "d.clear()               # очищаем очередь\n",
    "print(len(d))           # снова запрашиваем длинну очереди -> 0\n"
   ]
  },
  {
   "cell_type": "markdown",
   "id": "ae8a431e",
   "metadata": {},
   "source": [
    "Обратите внимание, что в данной реализации дека доступно обращение к элементам дека по индексу:"
   ]
  },
  {
   "cell_type": "code",
   "execution_count": 7,
   "id": "f1a33090",
   "metadata": {},
   "outputs": [
    {
     "name": "stdout",
     "output_type": "stream",
     "text": [
      "5 1 2 "
     ]
    }
   ],
   "source": [
    "d = deque([5,1,2])\n",
    "for i in range(len(d)):\n",
    "    print(d[i], end=' ')"
   ]
  },
  {
   "cell_type": "markdown",
   "id": "2d0a840b",
   "metadata": {},
   "source": [
    "# Куча (Heap)"
   ]
  },
  {
   "cell_type": "markdown",
   "id": "8cb172bb",
   "metadata": {},
   "source": [
    "__Куча__ - структура данных, поддерживающая операции добавления элемента и извлечения максимального из дабавленных ранее.\n",
    "\n",
    "Если реализовать такую структуру на базе списка, то добавлять элементы можно в конец списка за O(1). Но поиск наибольшего элемента будет занимать O(n), где n — число элементов в списке, потому как придется просматривать все элементы списка и выбирать из них наибольший. Аналогично, если хранить элементы упорядочив их по не убыванию, то извлечение наибольшего будет занимать O(1), но добавление элемента — O(n), потому как придется сдвигать элементы, уже находящиеся в списке."
   ]
  },
  {
   "cell_type": "markdown",
   "id": "6ecbebbb",
   "metadata": {},
   "source": [
    "Структура данных Куча (heap) позволяет выполнить вставку и удаление элемента за O(log(n)), поиск за О(1). В куче элементы хранятся в виде двоичного дерева. Одна из возможных реализаций предполагает хранение элементов в списке, начиная с корневого элемента. Для простоты нумерации пропустим нулевой элемент списка, т.е. вершина будет храниться в элементе списка с индексом 1.\n",
    "\n",
    "- У элемента Heap[i] левым потомком является элемент Heap[2i], а правым — Heap[2i + 1].\n",
    "- Родителем элемента Heap[i] является элемент Heap[i//2]"
   ]
  },
  {
   "cell_type": "code",
   "execution_count": null,
   "id": "795b147b",
   "metadata": {},
   "outputs": [],
   "source": [
    "Heap[1] = 100\n",
    "Heap[2] = 19\n",
    "Heap[3] = 36\n",
    "Heap[4] = 17\n",
    "Heap[5] = 3\n",
    "Heap[6] = 25\n",
    "Heap[7] = 1\n",
    "Heap[8] = 2\n",
    "Heap[9] = 7"
   ]
  },
  {
   "cell_type": "markdown",
   "id": "3217f56e",
   "metadata": {},
   "source": [
    "Одно из самых известных применений кучи — пирамидальная сортировка (heapsort). В данной сортировке из элементов списка сначала строится куча, потом элементы по одному удаляются из кучи — сначала наибольший, потом наибольший из оставшихся и т.д. Подробнее по ссылке: https://en.wikipedia.org/wiki/Heapsort"
   ]
  },
  {
   "cell_type": "markdown",
   "id": "d64719bb",
   "metadata": {},
   "source": [
    "# Графы и алгоритмы на графах"
   ]
  },
  {
   "cell_type": "markdown",
   "id": "461977f3",
   "metadata": {},
   "source": [
    "Граф - абстрактный математический объект, представляющий собой множество вершин и набор рёбер, то есть соединений между парами вершин.\n",
    "\n",
    "Существует 3 основных способа представления графа в программировании:"
   ]
  },
  {
   "cell_type": "markdown",
   "id": "835d71ce",
   "metadata": {},
   "source": [
    "__1.Матрица смежности__\n",
    "\n",
    "Граф из N вершин представляется матрицей размера NxN, в которой каждый элемент A[i,j] принимает значение 1, если вершины i и j соединены ребром и 0 в противном случае."
   ]
  },
  {
   "cell_type": "code",
   "execution_count": 9,
   "id": "f85d1f15",
   "metadata": {},
   "outputs": [],
   "source": [
    "A = [0, 1, 1, 0,\n",
    "     1, 0, 0, 0,\n",
    "     1, 0, 0, 1,\n",
    "     0, 0, 1, 0]"
   ]
  },
  {
   "cell_type": "markdown",
   "id": "f3ea77ac",
   "metadata": {},
   "source": [
    "Например, матрица выше описывает граф из 4ех вершин и 3ех ребер, расположенными между вершинанами 1-2, 1-3 и 3-4.\n",
    "\n",
    "Это наиболее удобный способ представления плотных графов. Однако, недостатком является требование к памяти, прямо пропорциональное квадрату количества вершин в графе."
   ]
  },
  {
   "cell_type": "markdown",
   "id": "3ac51b16",
   "metadata": {},
   "source": [
    "__2.Список смежности__\n",
    "\n",
    "Граф представляется списком, где каждой вершине графа соответствует строка, в которой хранится список смежных с ней вершин. Такая структура данных не является таблицей в обычном понимании, а представляет собой «список списков»."
   ]
  },
  {
   "cell_type": "code",
   "execution_count": null,
   "id": "35cfb3a9",
   "metadata": {},
   "outputs": [],
   "source": [
    "V = [[2,3], [1], [1,4], [3]]"
   ]
  },
  {
   "cell_type": "markdown",
   "id": "4b77c4e7",
   "metadata": {},
   "source": [
    "Это наиболее удобный способ для представления разреженных графов, а также при реализации базовых алгоритмов обхода графа в ширину или глубину, где нужно быстро получать «соседей» текущей просматриваемой вершины.\n",
    "\n",
    "__3.Список ребер__\n",
    "\n",
    "Граф представляется списком, где каждому ребру графа соответствует строка, в которой хранятся две вершины, которые этим ребром и соединяются."
   ]
  },
  {
   "cell_type": "code",
   "execution_count": null,
   "id": "ebf25daa",
   "metadata": {},
   "outputs": [],
   "source": [
    "E = [(1,2),(1,3),(3,4)]"
   ]
  },
  {
   "cell_type": "markdown",
   "id": "1b26fd91",
   "metadata": {},
   "source": [
    "Это наиболее компактный способ представления графов, поэтому часто применяется для внешнего хранения или обмена данными."
   ]
  },
  {
   "cell_type": "markdown",
   "id": "d8381242",
   "metadata": {},
   "source": [
    "# Поиск в глубину"
   ]
  },
  {
   "cell_type": "markdown",
   "id": "34d1886e",
   "metadata": {},
   "source": [
    "__Поиск в глубину (Depth First Search)__ - алгоритм обхода графа, при котором посещаются все вершины, доступные из начальной в порядке увеличения \"глубины\", позволяет построть маршрут из начальной вершины до всех, доступных из нее.\n",
    "\n",
    "Идея алгоритма:\n",
    "\n",
    "- выбрать начальную вершину\n",
    "- посетить любую смежную вершину, не посещенную ранее\n",
    "- рекурсивный вызов обхода в глубину из этой вершины\n",
    "- вернуться к начльной и повторить для остальных смежных вершин"
   ]
  },
  {
   "cell_type": "code",
   "execution_count": 10,
   "id": "bd35a5cb",
   "metadata": {},
   "outputs": [],
   "source": [
    "V = [[], [2,3], [1], [1,4], [3]]  # список смежности с мнимой нулевой вершиной\n",
    "Visited = [False]*(len(V)+1)      # список индикаторов посещения для всех вершин"
   ]
  },
  {
   "cell_type": "code",
   "execution_count": 11,
   "id": "8fde051c",
   "metadata": {},
   "outputs": [],
   "source": [
    "def DFS(start):\n",
    "    print(start,end=' ')          # выводим порядок обхода вершин\n",
    "    Visited[start] = True\n",
    "    for v in V[start]:            # запускаем обход в глубину  из каждой следующей вершины,\n",
    "        if Visited[v]==False:     # если она не была посещена ранее\n",
    "            DFS(v)"
   ]
  },
  {
   "cell_type": "code",
   "execution_count": 12,
   "id": "bea28772",
   "metadata": {},
   "outputs": [
    {
     "name": "stdout",
     "output_type": "stream",
     "text": [
      "1 2 3 4 "
     ]
    }
   ],
   "source": [
    "DFS(1)"
   ]
  },
  {
   "cell_type": "markdown",
   "id": "fd923703",
   "metadata": {},
   "source": [
    "Еще один пример с более сложным графом, остоящим из 8 вершин и 9 ребер."
   ]
  },
  {
   "cell_type": "code",
   "execution_count": 13,
   "id": "62910717",
   "metadata": {},
   "outputs": [
    {
     "name": "stdout",
     "output_type": "stream",
     "text": [
      "1 2 3 6 4 5 7 8 "
     ]
    }
   ],
   "source": [
    "V = [[], [2,4], [1,3,6], [2,6], [1,5,7,8],[4],[2,3],[4,8],[4,7]]\n",
    "Visited = [False]*(len(V)+1)\n",
    "DFS(1)"
   ]
  },
  {
   "cell_type": "markdown",
   "id": "2cdecc6e",
   "metadata": {},
   "source": [
    "Если граф содержит N вершин и M ребер и задается списком смежности, то сложность алгоритма O(N+M), в случае матрицы смежности — O(N^2).\n",
    "\n",
    "Поиск в глубину используется для следующих задач:\n",
    "\n",
    "- последовательный обход всех вершин графа\n",
    "- поиск компонент связности\n",
    "- проверка графа на двудольность\n",
    "- поиск циклов"
   ]
  },
  {
   "cell_type": "markdown",
   "id": "58069251",
   "metadata": {},
   "source": [
    "# Поиск в ширину"
   ]
  },
  {
   "cell_type": "markdown",
   "id": "51f894cb",
   "metadata": {},
   "source": [
    "__Поиск в ширину (Breadth First Search)__ - алгоритм обхода графа, при котором посещаются все вершины, доступные из начальной в порядке увеличения \"ширины\", позволяет построить кратчайший путь от начальной вершины до всех остальных.\n",
    "\n",
    "Идея алгоритма:\n",
    "\n",
    "- выбрать начальную вершину\n",
    "- посетить все смежные вершины\n",
    "- посетить все вершины, смежные с уже посещенными\n",
    "- продолжать пока в графе есть непосещенные вершины"
   ]
  },
  {
   "cell_type": "code",
   "execution_count": 14,
   "id": "6f2f4df4",
   "metadata": {},
   "outputs": [],
   "source": [
    "V = [[], [2,3], [1], [1,4], [3]]  # список смежности с мнимой нулевой вершиной\n",
    "Visited = [False]*(len(V)+1)      # список индикаторов посещения для всех вершин"
   ]
  },
  {
   "cell_type": "code",
   "execution_count": 15,
   "id": "bc540edf",
   "metadata": {},
   "outputs": [],
   "source": [
    "def BFS(start):\n",
    "    print(start,end=' ')\n",
    "    Visited[start] = True\n",
    "    Q = [start]                   # очередь вершин для обхода\n",
    "    Qidx = 0                      # индекс текущего элемента в очереди\n",
    "    while Qidx < len(Q):\n",
    "        u = Q[Qidx]               # определяем текущую вершину в очереди\n",
    "        Qidx += 1\n",
    "        for v in V[u]:            # добавляем в очередь все смежные с текущей,\n",
    "            if Visited[v]==False: # если они не были посещены ранее\n",
    "                Q.append(v)\n",
    "                print(v,end=' ')\n",
    "                Visited[v] = True"
   ]
  },
  {
   "cell_type": "code",
   "execution_count": 16,
   "id": "e71ea563",
   "metadata": {},
   "outputs": [
    {
     "name": "stdout",
     "output_type": "stream",
     "text": [
      "1 2 3 4 "
     ]
    }
   ],
   "source": [
    "BFS(1)"
   ]
  },
  {
   "cell_type": "markdown",
   "id": "b60fb567",
   "metadata": {},
   "source": [
    "Второй пример, для демонстрации разницы в порядке обхода вершин при поиске в глубину и поиске в ширину."
   ]
  },
  {
   "cell_type": "code",
   "execution_count": 17,
   "id": "8a4da3a8",
   "metadata": {},
   "outputs": [
    {
     "name": "stdout",
     "output_type": "stream",
     "text": [
      "1 2 4 3 6 5 7 8 "
     ]
    }
   ],
   "source": [
    "V = [[], [2,4], [1,3,6], [2,6], [1,5,7,8],[4],[2,3],[4,8],[4,7]]\n",
    "Visited = [False]*(len(V)+1)\n",
    "BFS(1)"
   ]
  },
  {
   "cell_type": "markdown",
   "id": "019b1e72",
   "metadata": {},
   "source": [
    "Аналогично поиску в глубину, если граф содержит N вершин и M ребер и задается списком смежности, то сложность алгоритма O(N+M), в случае матрицы смежности — O(N^2).\n",
    "\n",
    "Поиск в ширину используется для следующих задач:\n",
    "\n",
    "- последовательный обход всех вершин графа\n",
    "- поиск кратчайших путей"
   ]
  },
  {
   "cell_type": "markdown",
   "id": "8cd57d16",
   "metadata": {},
   "source": [
    "# Анализ данных с помощью Python"
   ]
  },
  {
   "cell_type": "markdown",
   "id": "3c70223c",
   "metadata": {},
   "source": [
    "Для демонстрации работы с данными в python воспользуемся данными из соревнования Kaggle по мотивам крушения Титаника:\n",
    "\n",
    "__[Соревнование](https://www.kaggle.com/c/titanic) Kaggle \"Titanic: Machine Learning from Disaster\".__\n",
    "\n",
    "Для работы с данными воспользуемся следующими библиотеками:\n",
    "\n",
    "Библиотека __pandas__ - для загрузки, хранения и обработки данных\n",
    "\n",
    "- оффициальный сайт библиотеки - http://pandas.pydata.org\n",
    "- обучалка и примеры (англ.) - https://pythonspot.com/category/pandas/\n",
    "\n",
    "Библиотека __numpy__ - для математических операций и работы с многомерными массивами данных\n",
    "\n",
    "- оффициальный сайт библиотеки - http://www.numpy.org/#\n",
    "- обучалка и примеры (рус.) - https://pythonworld.ru/numpy\n",
    "\n",
    "Библиотека __matplotlib__ - для построения графиков\n",
    "\n",
    "- оффициальный сайт библиотеки - http://matplotlib.org\n",
    "- обучалка и примеры (англ.) - https://pythonspot.com/en/matplotlib/\n",
    "- обучалка и примеры (рус.) - https://pythonworld.ru/novosti-mira-python/scientific-graphics-in-python.html\n",
    "\n",
    "Библиотека __seaborn__ - для визуализации данных\n",
    "\n",
    "- оффициальный сайт библиотеки - http://seaborn.pydata.org\n",
    "- обучалка и примеры (англ.) - https://elitedatascience.com/python-seaborn-tutorial\n",
    "\n",
    "Загружаем библиотеки для работы"
   ]
  },
  {
   "cell_type": "code",
   "execution_count": 2,
   "id": "b7644383",
   "metadata": {},
   "outputs": [],
   "source": [
    "import pandas as pd\n",
    "import numpy as np\n",
    "import seaborn as sns\n",
    "import matplotlib.pyplot as plt\n",
    "%matplotlib inline"
   ]
  },
  {
   "cell_type": "markdown",
   "id": "e59349d5",
   "metadata": {},
   "source": [
    "Считываем обучающую выборку"
   ]
  },
  {
   "cell_type": "code",
   "execution_count": 3,
   "id": "99e09516",
   "metadata": {},
   "outputs": [],
   "source": [
    "import os\n",
    "if 'train.csv' in os.listdir():\n",
    "    train_df = pd.read_csv(\"train.csv\") \n",
    "else:\n",
    "    if not 'kaggle-titanic' in os.listdir():\n",
    "        !git clone https://github.com/pcsanwald/kaggle-titanic.git\n",
    "    train_df = pd.read_csv(\"kaggle-titanic/train.csv\") "
   ]
  },
  {
   "cell_type": "code",
   "execution_count": 4,
   "id": "89e795f5",
   "metadata": {},
   "outputs": [
    {
     "data": {
      "text/html": [
       "<div>\n",
       "<style scoped>\n",
       "    .dataframe tbody tr th:only-of-type {\n",
       "        vertical-align: middle;\n",
       "    }\n",
       "\n",
       "    .dataframe tbody tr th {\n",
       "        vertical-align: top;\n",
       "    }\n",
       "\n",
       "    .dataframe thead th {\n",
       "        text-align: right;\n",
       "    }\n",
       "</style>\n",
       "<table border=\"1\" class=\"dataframe\">\n",
       "  <thead>\n",
       "    <tr style=\"text-align: right;\">\n",
       "      <th></th>\n",
       "      <th>survived</th>\n",
       "      <th>pclass</th>\n",
       "      <th>name</th>\n",
       "      <th>sex</th>\n",
       "      <th>age</th>\n",
       "      <th>sibsp</th>\n",
       "      <th>parch</th>\n",
       "      <th>ticket</th>\n",
       "      <th>fare</th>\n",
       "      <th>cabin</th>\n",
       "      <th>embarked</th>\n",
       "    </tr>\n",
       "  </thead>\n",
       "  <tbody>\n",
       "    <tr>\n",
       "      <th>count</th>\n",
       "      <td>891.000000</td>\n",
       "      <td>891.000000</td>\n",
       "      <td>891</td>\n",
       "      <td>891</td>\n",
       "      <td>714.000000</td>\n",
       "      <td>891.000000</td>\n",
       "      <td>891.000000</td>\n",
       "      <td>891</td>\n",
       "      <td>891.000000</td>\n",
       "      <td>204</td>\n",
       "      <td>889</td>\n",
       "    </tr>\n",
       "    <tr>\n",
       "      <th>unique</th>\n",
       "      <td>NaN</td>\n",
       "      <td>NaN</td>\n",
       "      <td>891</td>\n",
       "      <td>2</td>\n",
       "      <td>NaN</td>\n",
       "      <td>NaN</td>\n",
       "      <td>NaN</td>\n",
       "      <td>681</td>\n",
       "      <td>NaN</td>\n",
       "      <td>147</td>\n",
       "      <td>3</td>\n",
       "    </tr>\n",
       "    <tr>\n",
       "      <th>top</th>\n",
       "      <td>NaN</td>\n",
       "      <td>NaN</td>\n",
       "      <td>Touma, Mrs. Darwis (Hanne Youssef Razi)</td>\n",
       "      <td>male</td>\n",
       "      <td>NaN</td>\n",
       "      <td>NaN</td>\n",
       "      <td>NaN</td>\n",
       "      <td>CA. 2343</td>\n",
       "      <td>NaN</td>\n",
       "      <td>B96 B98</td>\n",
       "      <td>S</td>\n",
       "    </tr>\n",
       "    <tr>\n",
       "      <th>freq</th>\n",
       "      <td>NaN</td>\n",
       "      <td>NaN</td>\n",
       "      <td>1</td>\n",
       "      <td>577</td>\n",
       "      <td>NaN</td>\n",
       "      <td>NaN</td>\n",
       "      <td>NaN</td>\n",
       "      <td>7</td>\n",
       "      <td>NaN</td>\n",
       "      <td>4</td>\n",
       "      <td>644</td>\n",
       "    </tr>\n",
       "    <tr>\n",
       "      <th>mean</th>\n",
       "      <td>0.383838</td>\n",
       "      <td>2.308642</td>\n",
       "      <td>NaN</td>\n",
       "      <td>NaN</td>\n",
       "      <td>29.699118</td>\n",
       "      <td>0.523008</td>\n",
       "      <td>0.381594</td>\n",
       "      <td>NaN</td>\n",
       "      <td>32.204208</td>\n",
       "      <td>NaN</td>\n",
       "      <td>NaN</td>\n",
       "    </tr>\n",
       "    <tr>\n",
       "      <th>std</th>\n",
       "      <td>0.486592</td>\n",
       "      <td>0.836071</td>\n",
       "      <td>NaN</td>\n",
       "      <td>NaN</td>\n",
       "      <td>14.526497</td>\n",
       "      <td>1.102743</td>\n",
       "      <td>0.806057</td>\n",
       "      <td>NaN</td>\n",
       "      <td>49.693429</td>\n",
       "      <td>NaN</td>\n",
       "      <td>NaN</td>\n",
       "    </tr>\n",
       "    <tr>\n",
       "      <th>min</th>\n",
       "      <td>0.000000</td>\n",
       "      <td>1.000000</td>\n",
       "      <td>NaN</td>\n",
       "      <td>NaN</td>\n",
       "      <td>0.420000</td>\n",
       "      <td>0.000000</td>\n",
       "      <td>0.000000</td>\n",
       "      <td>NaN</td>\n",
       "      <td>0.000000</td>\n",
       "      <td>NaN</td>\n",
       "      <td>NaN</td>\n",
       "    </tr>\n",
       "    <tr>\n",
       "      <th>25%</th>\n",
       "      <td>0.000000</td>\n",
       "      <td>2.000000</td>\n",
       "      <td>NaN</td>\n",
       "      <td>NaN</td>\n",
       "      <td>20.125000</td>\n",
       "      <td>0.000000</td>\n",
       "      <td>0.000000</td>\n",
       "      <td>NaN</td>\n",
       "      <td>7.910400</td>\n",
       "      <td>NaN</td>\n",
       "      <td>NaN</td>\n",
       "    </tr>\n",
       "    <tr>\n",
       "      <th>50%</th>\n",
       "      <td>0.000000</td>\n",
       "      <td>3.000000</td>\n",
       "      <td>NaN</td>\n",
       "      <td>NaN</td>\n",
       "      <td>28.000000</td>\n",
       "      <td>0.000000</td>\n",
       "      <td>0.000000</td>\n",
       "      <td>NaN</td>\n",
       "      <td>14.454200</td>\n",
       "      <td>NaN</td>\n",
       "      <td>NaN</td>\n",
       "    </tr>\n",
       "    <tr>\n",
       "      <th>75%</th>\n",
       "      <td>1.000000</td>\n",
       "      <td>3.000000</td>\n",
       "      <td>NaN</td>\n",
       "      <td>NaN</td>\n",
       "      <td>38.000000</td>\n",
       "      <td>1.000000</td>\n",
       "      <td>0.000000</td>\n",
       "      <td>NaN</td>\n",
       "      <td>31.000000</td>\n",
       "      <td>NaN</td>\n",
       "      <td>NaN</td>\n",
       "    </tr>\n",
       "    <tr>\n",
       "      <th>max</th>\n",
       "      <td>1.000000</td>\n",
       "      <td>3.000000</td>\n",
       "      <td>NaN</td>\n",
       "      <td>NaN</td>\n",
       "      <td>80.000000</td>\n",
       "      <td>8.000000</td>\n",
       "      <td>6.000000</td>\n",
       "      <td>NaN</td>\n",
       "      <td>512.329200</td>\n",
       "      <td>NaN</td>\n",
       "      <td>NaN</td>\n",
       "    </tr>\n",
       "  </tbody>\n",
       "</table>\n",
       "</div>"
      ],
      "text/plain": [
       "          survived      pclass                                     name   sex  \\\n",
       "count   891.000000  891.000000                                      891   891   \n",
       "unique         NaN         NaN                                      891     2   \n",
       "top            NaN         NaN  Touma, Mrs. Darwis (Hanne Youssef Razi)  male   \n",
       "freq           NaN         NaN                                        1   577   \n",
       "mean      0.383838    2.308642                                      NaN   NaN   \n",
       "std       0.486592    0.836071                                      NaN   NaN   \n",
       "min       0.000000    1.000000                                      NaN   NaN   \n",
       "25%       0.000000    2.000000                                      NaN   NaN   \n",
       "50%       0.000000    3.000000                                      NaN   NaN   \n",
       "75%       1.000000    3.000000                                      NaN   NaN   \n",
       "max       1.000000    3.000000                                      NaN   NaN   \n",
       "\n",
       "               age       sibsp       parch    ticket        fare    cabin  \\\n",
       "count   714.000000  891.000000  891.000000       891  891.000000      204   \n",
       "unique         NaN         NaN         NaN       681         NaN      147   \n",
       "top            NaN         NaN         NaN  CA. 2343         NaN  B96 B98   \n",
       "freq           NaN         NaN         NaN         7         NaN        4   \n",
       "mean     29.699118    0.523008    0.381594       NaN   32.204208      NaN   \n",
       "std      14.526497    1.102743    0.806057       NaN   49.693429      NaN   \n",
       "min       0.420000    0.000000    0.000000       NaN    0.000000      NaN   \n",
       "25%      20.125000    0.000000    0.000000       NaN    7.910400      NaN   \n",
       "50%      28.000000    0.000000    0.000000       NaN   14.454200      NaN   \n",
       "75%      38.000000    1.000000    0.000000       NaN   31.000000      NaN   \n",
       "max      80.000000    8.000000    6.000000       NaN  512.329200      NaN   \n",
       "\n",
       "       embarked  \n",
       "count       889  \n",
       "unique        3  \n",
       "top           S  \n",
       "freq        644  \n",
       "mean        NaN  \n",
       "std         NaN  \n",
       "min         NaN  \n",
       "25%         NaN  \n",
       "50%         NaN  \n",
       "75%         NaN  \n",
       "max         NaN  "
      ]
     },
     "execution_count": 4,
     "metadata": {},
     "output_type": "execute_result"
    }
   ],
   "source": [
    "train_df.describe(include='all')"
   ]
  },
  {
   "cell_type": "markdown",
   "id": "15543656",
   "metadata": {},
   "source": [
    "Заполним пропуски медианными значениями"
   ]
  },
  {
   "cell_type": "code",
   "execution_count": 5,
   "id": "12cfcdd4",
   "metadata": {},
   "outputs": [],
   "source": [
    "train_df['age'] = train_df['age'].fillna(train_df['age'].median())\n",
    "train_df['embarked'] = train_df['embarked'].fillna('S')"
   ]
  },
  {
   "cell_type": "code",
   "execution_count": 6,
   "id": "42ef792c",
   "metadata": {},
   "outputs": [
    {
     "name": "stdout",
     "output_type": "stream",
     "text": [
      "0      22.0\n",
      "1      38.0\n",
      "2      26.0\n",
      "3      35.0\n",
      "4      35.0\n",
      "       ... \n",
      "886    27.0\n",
      "887    19.0\n",
      "888    28.0\n",
      "889    26.0\n",
      "890    32.0\n",
      "Name: age, Length: 891, dtype: float64\n"
     ]
    }
   ],
   "source": [
    "print(train_df['age'])"
   ]
  },
  {
   "cell_type": "markdown",
   "id": "cd7aa75e",
   "metadata": {},
   "source": [
    "# Первичный анализ данных"
   ]
  },
  {
   "cell_type": "markdown",
   "id": "bac66428",
   "metadata": {},
   "source": [
    "__1. Сколько мужчин / жещин находилось на борту?__"
   ]
  },
  {
   "cell_type": "code",
   "execution_count": 7,
   "id": "1e4ef192",
   "metadata": {},
   "outputs": [
    {
     "name": "stdout",
     "output_type": "stream",
     "text": [
      "На борту было 577 мужчин и 314 женщин.\n"
     ]
    }
   ],
   "source": [
    "print(\"На борту было {} мужчин и {} женщин.\".format(\n",
    "    sum(train_df['sex'] == 'male'), \n",
    "    sum(train_df['sex'] == 'female')))"
   ]
  },
  {
   "cell_type": "markdown",
   "id": "b0fd336d",
   "metadata": {},
   "source": [
    "Другой способ:"
   ]
  },
  {
   "cell_type": "code",
   "execution_count": 8,
   "id": "d116a031",
   "metadata": {},
   "outputs": [
    {
     "data": {
      "text/plain": [
       "male      577\n",
       "female    314\n",
       "Name: sex, dtype: int64"
      ]
     },
     "execution_count": 8,
     "metadata": {},
     "output_type": "execute_result"
    }
   ],
   "source": [
    "train_df['sex'].value_counts()"
   ]
  },
  {
   "cell_type": "markdown",
   "id": "9fdcbf03",
   "metadata": {},
   "source": [
    "__2. Выведите распределение переменной Pclass (социально-экономический статус). Дополнительно – это же распределение только для мужчин / женщин по отдельности.__"
   ]
  },
  {
   "cell_type": "code",
   "execution_count": 9,
   "id": "946a92c2",
   "metadata": {},
   "outputs": [
    {
     "data": {
      "text/html": [
       "<div>\n",
       "<style scoped>\n",
       "    .dataframe tbody tr th:only-of-type {\n",
       "        vertical-align: middle;\n",
       "    }\n",
       "\n",
       "    .dataframe tbody tr th {\n",
       "        vertical-align: top;\n",
       "    }\n",
       "\n",
       "    .dataframe thead th {\n",
       "        text-align: right;\n",
       "    }\n",
       "</style>\n",
       "<table border=\"1\" class=\"dataframe\">\n",
       "  <thead>\n",
       "    <tr style=\"text-align: right;\">\n",
       "      <th>sex</th>\n",
       "      <th>female</th>\n",
       "      <th>male</th>\n",
       "      <th>All</th>\n",
       "    </tr>\n",
       "    <tr>\n",
       "      <th>pclass</th>\n",
       "      <th></th>\n",
       "      <th></th>\n",
       "      <th></th>\n",
       "    </tr>\n",
       "  </thead>\n",
       "  <tbody>\n",
       "    <tr>\n",
       "      <th>1</th>\n",
       "      <td>94</td>\n",
       "      <td>122</td>\n",
       "      <td>216</td>\n",
       "    </tr>\n",
       "    <tr>\n",
       "      <th>2</th>\n",
       "      <td>76</td>\n",
       "      <td>108</td>\n",
       "      <td>184</td>\n",
       "    </tr>\n",
       "    <tr>\n",
       "      <th>3</th>\n",
       "      <td>144</td>\n",
       "      <td>347</td>\n",
       "      <td>491</td>\n",
       "    </tr>\n",
       "    <tr>\n",
       "      <th>All</th>\n",
       "      <td>314</td>\n",
       "      <td>577</td>\n",
       "      <td>891</td>\n",
       "    </tr>\n",
       "  </tbody>\n",
       "</table>\n",
       "</div>"
      ],
      "text/plain": [
       "sex     female  male  All\n",
       "pclass                   \n",
       "1           94   122  216\n",
       "2           76   108  184\n",
       "3          144   347  491\n",
       "All        314   577  891"
      ]
     },
     "execution_count": 9,
     "metadata": {},
     "output_type": "execute_result"
    }
   ],
   "source": [
    "pd.crosstab(train_df['pclass'], train_df['sex'], margins=True)"
   ]
  },
  {
   "cell_type": "markdown",
   "id": "2026ca0e",
   "metadata": {},
   "source": [
    "__3. Сколько в среднем заплатил один пассажир? Найдите стандартное отклонение этой величины. Лучше округлить до 2 десятичных знаков.__"
   ]
  },
  {
   "cell_type": "code",
   "execution_count": 10,
   "id": "7367c88f",
   "metadata": {},
   "outputs": [
    {
     "name": "stdout",
     "output_type": "stream",
     "text": [
      "Mean fare:  32.2\n",
      "Median fare:  14.45\n",
      "Fare std:  49.69\n"
     ]
    }
   ],
   "source": [
    "print(\"Mean fare: \", round(train_df['fare'].mean(), 2))\n",
    "print(\"Median fare: \", round(train_df['fare'].median(), 2))\n",
    "print(\"Fare std: \", round(train_df['fare'].std(), 2))"
   ]
  },
  {
   "cell_type": "markdown",
   "id": "40c768a7",
   "metadata": {},
   "source": [
    "__4. Правда ли, что молодые выживали чаще (с большей вероятностью), чем старики? Пусть \"молодые\" – те, кто моложе 30, а \"старики\" – те, кто старше 60.__"
   ]
  },
  {
   "cell_type": "code",
   "execution_count": 11,
   "id": "3666eabc",
   "metadata": {},
   "outputs": [
    {
     "name": "stdout",
     "output_type": "stream",
     "text": [
      "Доли выживыших: \n",
      "\t среди молодых 37.08%, \n",
      "\t среди старых 22.73%.\n"
     ]
    }
   ],
   "source": [
    "young_survived = train_df[train_df['age'] < 30]['survived']\n",
    "old_survived = train_df[train_df['age'] > 60]['survived']\n",
    "\n",
    "print(\"Доли выживыших: \\n\\t среди молодых {}%, \\n\\t среди старых {}%.\".format(\n",
    "    round(100 * young_survived.mean(), 2), round(100 * old_survived.mean(), 2)))"
   ]
  },
  {
   "cell_type": "markdown",
   "id": "3b6cd572",
   "metadata": {},
   "source": [
    "__5. Правда ли, что женщины выживали чаще мужчин?__"
   ]
  },
  {
   "cell_type": "code",
   "execution_count": 12,
   "id": "2451d37d",
   "metadata": {},
   "outputs": [
    {
     "name": "stdout",
     "output_type": "stream",
     "text": [
      "Доли выживыших: \n",
      "\t среди женщин 74.2%, \n",
      "\t среди мужчин 18.89%\n"
     ]
    }
   ],
   "source": [
    "male_survived = train_df[train_df['sex'] == 'male']['survived']\n",
    "female_survived = train_df[train_df['sex'] == 'female']['survived']\n",
    "\n",
    "\n",
    "print(\"Доли выживыших: \\n\\t среди женщин {}%, \\n\\t среди мужчин {}%\".format(\n",
    "    round(100 * female_survived.mean(), 2), round(100 * male_survived.mean(), 2)))"
   ]
  },
  {
   "cell_type": "markdown",
   "id": "6f3ded4e",
   "metadata": {},
   "source": [
    "__6. Какое самое популярное имя среди пассажиров Титаника мужского пола?__"
   ]
  },
  {
   "cell_type": "code",
   "execution_count": 13,
   "id": "33cf0e3d",
   "metadata": {},
   "outputs": [
    {
     "data": {
      "text/plain": [
       "William    35\n",
       "John       25\n",
       "George     14\n",
       "Charles    13\n",
       "Thomas     13\n",
       "Name: name, dtype: int64"
      ]
     },
     "execution_count": 13,
     "metadata": {},
     "output_type": "execute_result"
    }
   ],
   "source": [
    "names = train_df[train_df['sex'] == 'male']['name'].apply(lambda full_name: \n",
    "                                                  full_name.split()[2])\n",
    "names.value_counts().head()"
   ]
  },
  {
   "cell_type": "markdown",
   "id": "ca0044b6",
   "metadata": {},
   "source": [
    "__7. Сравните распределение стоимости билетов у спасенных и у погибших.__"
   ]
  },
  {
   "cell_type": "code",
   "execution_count": 14,
   "id": "b12203c7",
   "metadata": {},
   "outputs": [
    {
     "data": {
      "text/plain": [
       "<matplotlib.legend.Legend at 0x20db75d3460>"
      ]
     },
     "execution_count": 14,
     "metadata": {},
     "output_type": "execute_result"
    },
    {
     "data": {
      "image/png": "[encoded data removed]",
      "text/plain": [
       "<Figure size 864x648 with 1 Axes>"
      ]
     },
     "metadata": {
      "needs_background": "light"
     },
     "output_type": "display_data"
    }
   ],
   "source": [
    "plt.rcParams[\"figure.figsize\"] = [12,9]   #увеличим стандартный размер графиков\n",
    "train_df[train_df['survived'] == 1]['fare'].hist(color=\"green\", label='survived')\n",
    "train_df[train_df['survived'] == 0]['fare'].hist(color=\"red\", label='died')\n",
    "plt.title('Ticket fare for survived and died')\n",
    "plt.xlabel('Pounds')\n",
    "plt.ylabel('Frequency')\n",
    "plt.legend()"
   ]
  },
  {
   "cell_type": "markdown",
   "id": "f2d9ecda",
   "metadata": {},
   "source": [
    "__8. Как отличается средний возраст мужчин / женщин в зависимости от класса обслуживания?__"
   ]
  },
  {
   "cell_type": "code",
   "execution_count": 15,
   "id": "2e97447a",
   "metadata": {},
   "outputs": [
    {
     "name": "stdout",
     "output_type": "stream",
     "text": [
      "Average age for male and class 3: 26.91\n",
      "Average age for female and class 3: 23.57\n",
      "Average age for male and class 1: 39.0\n",
      "Average age for female and class 1: 33.98\n",
      "Average age for male and class 2: 30.51\n",
      "Average age for female and class 2: 28.7\n"
     ]
    }
   ],
   "source": [
    "for cl in train_df['pclass'].unique():\n",
    "    for sex in train_df['sex'].unique():\n",
    "        print(\"Average age for {0} and class {1}: {2}\".format(sex, cl, \n",
    "            round(train_df[(train_df['sex'] == sex)\n",
    "                         & (train_df['pclass'] == cl)]['age'].mean(),2)))"
   ]
  },
  {
   "cell_type": "markdown",
   "id": "74db46f8",
   "metadata": {},
   "source": [
    "Другой способ: с помощью функции __groupby__:"
   ]
  },
  {
   "cell_type": "code",
   "execution_count": 16,
   "id": "b5a83044",
   "metadata": {},
   "outputs": [
    {
     "name": "stdout",
     "output_type": "stream",
     "text": [
      "Average age for female and class 1: 33.98\n",
      "Average age for male and class 1: 39.0\n",
      "Average age for female and class 2: 28.7\n",
      "Average age for male and class 2: 30.51\n",
      "Average age for female and class 3: 23.57\n",
      "Average age for male and class 3: 26.91\n"
     ]
    }
   ],
   "source": [
    "for (cl, sex), sub_df in train_df.groupby(['pclass', 'sex']):\n",
    "    print(\"Average age for {0} and class {1}: {2}\".format(sex, cl,\n",
    "                                                         round(sub_df['age'].mean(), 2)))"
   ]
  },
  {
   "cell_type": "markdown",
   "id": "072181f7",
   "metadata": {},
   "source": [
    "# Визуальный анализ данных"
   ]
  },
  {
   "cell_type": "markdown",
   "id": "81f7f95f",
   "metadata": {},
   "source": [
    "__9. Постройте попарные зависимости признаков Age, Fare, SibSp, Parch, Embarked и Survived. (метод scatter_matrix Pandas или pairplot Seaborn).__"
   ]
  },
  {
   "cell_type": "code",
   "execution_count": 17,
   "id": "e23c2ce7",
   "metadata": {},
   "outputs": [
    {
     "data": {
      "text/plain": [
       "<seaborn.axisgrid.PairGrid at 0x20db7c7e700>"
      ]
     },
     "execution_count": 17,
     "metadata": {},
     "output_type": "execute_result"
    },
    {
     "data": {
      "image/png": "[encoded data removed]",
      "text/plain": [
       "<Figure size 900x900 with 30 Axes>"
      ]
     },
     "metadata": {
      "needs_background": "light"
     },
     "output_type": "display_data"
    }
   ],
   "source": [
    "sns.pairplot(train_df[['survived', 'age', 'fare',  'sibsp', \n",
    "                       'parch', 'embarked']])"
   ]
  },
  {
   "cell_type": "markdown",
   "id": "fff8ad01",
   "metadata": {},
   "source": [
    "__10. Как плата за билет (Fare) зависит от класса каюты (Pclass)? Постройте boxplot.__"
   ]
  },
  {
   "cell_type": "code",
   "execution_count": 17,
   "id": "1002096d",
   "metadata": {},
   "outputs": [
    {
     "data": {
      "text/plain": [
       "<AxesSubplot:xlabel='pclass', ylabel='fare'>"
      ]
     },
     "execution_count": 17,
     "metadata": {},
     "output_type": "execute_result"
    },
    {
     "data": {
      "image/png": "[encoded data removed]",
      "text/plain": [
       "<Figure size 864x648 with 1 Axes>"
      ]
     },
     "metadata": {
      "needs_background": "light"
     },
     "output_type": "display_data"
    }
   ],
   "source": [
    "sns.boxplot(x='pclass', y='fare', data=train_df)"
   ]
  },
  {
   "cell_type": "markdown",
   "id": "2d147bab",
   "metadata": {},
   "source": [
    "Такой boxplot получается не очень красивым из-за выбросов.\n",
    "\n",
    "Опционально: создайте признак Fare_no_out - стоимости без выбросов, в котором исключаются стоимости, отличающиеся от средней по классу более чем на 3 стандартных отклонения. Важно: Надо исключать выбросы именно в зависимости от класса каюты. Иначе исключаться будут только самые большие (1 класс) и малые (3 класс) стоимости."
   ]
  },
  {
   "cell_type": "code",
   "execution_count": 18,
   "id": "cec456f1",
   "metadata": {},
   "outputs": [],
   "source": [
    "train_df['fare_no_out'] = train_df['fare']\n",
    "fare_pclass1 = train_df[train_df['pclass'] == 1]['fare']\n",
    "fare_pclass2 = train_df[train_df['pclass'] == 2]['fare']\n",
    "fare_pclass3 = train_df[train_df['pclass'] == 3]['fare']\n",
    "fare_pclass1_no_out = fare_pclass1[(fare_pclass1 - fare_pclass1.mean()).abs()  < 2 * fare_pclass1.std()]\n",
    "fare_pclass2_no_out = fare_pclass2[(fare_pclass2 - fare_pclass2.mean()).abs()  < 2 * fare_pclass2.std()]\n",
    "fare_pclass3_no_out = fare_pclass3[(fare_pclass3 - fare_pclass3.mean()).abs()  < 2 * fare_pclass3.std()]\n",
    "train_df['fare_no_out'] = fare_pclass1_no_out.append(fare_pclass2_no_out).append(fare_pclass3_no_out)"
   ]
  },
  {
   "cell_type": "code",
   "execution_count": 69,
   "id": "64496f8a",
   "metadata": {},
   "outputs": [
    {
     "data": {
      "text/plain": [
       "<AxesSubplot:xlabel='pclass', ylabel='fare_no_out'>"
      ]
     },
     "execution_count": 69,
     "metadata": {},
     "output_type": "execute_result"
    },
    {
     "data": {
      "image/png": "[encoded data removed]",
      "text/plain": [
       "<Figure size 864x648 with 1 Axes>"
      ]
     },
     "metadata": {
      "needs_background": "light"
     },
     "output_type": "display_data"
    }
   ],
   "source": [
    "sns.boxplot(x='pclass', y='fare_no_out', data=train_df)"
   ]
  },
  {
   "cell_type": "markdown",
   "id": "1d37cac0",
   "metadata": {},
   "source": [
    "__11. Каково соотношение погибших и выживших в зависимости от пола? Отобразите c помощью Seaborn.countplot c аргументом hue.__"
   ]
  },
  {
   "cell_type": "code",
   "execution_count": 19,
   "id": "9701a2e7",
   "metadata": {},
   "outputs": [
    {
     "data": {
      "text/plain": [
       "<AxesSubplot:xlabel='sex', ylabel='count'>"
      ]
     },
     "execution_count": 19,
     "metadata": {},
     "output_type": "execute_result"
    },
    {
     "data": {
      "image/png": "[encoded data removed]",
      "text/plain": [
       "<Figure size 864x648 with 1 Axes>"
      ]
     },
     "metadata": {
      "needs_background": "light"
     },
     "output_type": "display_data"
    }
   ],
   "source": [
    "sns.countplot(x=\"sex\", hue=\"survived\", data=train_df)"
   ]
  },
  {
   "cell_type": "markdown",
   "id": "dd49ced0",
   "metadata": {},
   "source": [
    "__12. Каково соотношение погибших и выживших в зависимости от класса каюты? Отобразите c помощью Seaborn.countplot c аргументом hue__"
   ]
  },
  {
   "cell_type": "code",
   "execution_count": 20,
   "id": "7e1550f5",
   "metadata": {},
   "outputs": [
    {
     "data": {
      "image/png": "[encoded data removed]",
      "text/plain": [
       "<Figure size 864x648 with 1 Axes>"
      ]
     },
     "metadata": {
      "needs_background": "light"
     },
     "output_type": "display_data"
    }
   ],
   "source": [
    "sns.countplot(x=\"pclass\", hue=\"survived\", data=train_df);"
   ]
  },
  {
   "cell_type": "markdown",
   "id": "54e9338c",
   "metadata": {},
   "source": [
    "__13. Как факт выживания зависит от возраста пассажира? Проверьте (графически) предположение, что молодые чаще выживали.__"
   ]
  },
  {
   "cell_type": "code",
   "execution_count": 21,
   "id": "a84eed65",
   "metadata": {},
   "outputs": [
    {
     "data": {
      "text/plain": [
       "<AxesSubplot:xlabel='survived', ylabel='age'>"
      ]
     },
     "execution_count": 21,
     "metadata": {},
     "output_type": "execute_result"
    },
    {
     "data": {
      "image/png": "[encoded data removed]",
      "text/plain": [
       "<Figure size 864x648 with 1 Axes>"
      ]
     },
     "metadata": {
      "needs_background": "light"
     },
     "output_type": "display_data"
    }
   ],
   "source": [
    "sns.boxplot(x='survived', y='age', data=train_df)"
   ]
  },
  {
   "cell_type": "markdown",
   "id": "98b58496",
   "metadata": {},
   "source": [
    "# Бонус. Машинное обучение"
   ]
  },
  {
   "cell_type": "markdown",
   "id": "ce0e4fe0",
   "metadata": {},
   "source": [
    "Для построения моделей анализа данных используются различные алгоритмы машинного обучения, такие как линейная регрессия, метод ближайших соседей, машина опорных векторов, байесовский классификатор, решающие деревья, нейронные сети и многое другое."
   ]
  },
  {
   "cell_type": "markdown",
   "id": "3ebd5c48",
   "metadata": {},
   "source": [
    "Ссылки для изучения алгоритмов машинного обучения:\n",
    "\n",
    "- википедия - https://ru.wikipedia.org/wiki/Машинное_обучение\n",
    "- все о машинном обучении - http://www.machinelearning.ru/wiki/index.php?title=Заглавная_страница\n",
    "- обучалка по базовым алгоритмам (англ.)- https://pythonspot.com/en/machine-learning/\n",
    "- машинное обучение - это легко (Хабр.) - https://habrahabr.ru/post/319288/"
   ]
  }
 ],
 "metadata": {
  "kernelspec": {
   "display_name": "Python 3",
   "language": "python",
   "name": "python3"
  },
  "language_info": {
   "codemirror_mode": {
    "name": "ipython",
    "version": 3
   },
   "file_extension": ".py",
   "mimetype": "text/x-python",
   "name": "python",
   "nbconvert_exporter": "python",
   "pygments_lexer": "ipython3",
   "version": "3.8.8"
  }
 },
 "nbformat": 4,
 "nbformat_minor": 5
}
