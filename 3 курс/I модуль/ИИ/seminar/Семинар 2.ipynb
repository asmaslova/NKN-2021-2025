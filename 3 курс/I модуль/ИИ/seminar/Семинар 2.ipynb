{
 "cells": [
  {
   "cell_type": "markdown",
   "id": "fc1354ee",
   "metadata": {},
   "source": [
    "# Списки (list) Контест №2- https://contest.yandex.ru/contest/29438/enter/"
   ]
  },
  {
   "cell_type": "markdown",
   "id": "66522e26",
   "metadata": {},
   "source": [
    "Списки в Python - упорядоченные изменяемые коллекции объектов произвольных типов (почти как массив, но типы могут отличаться).\n",
    "\n",
    "Чтобы использовать списки, их нужно создать. Создать список можно несколькими способами. Например, можно обработать любой итерируемый объект (например, строку) встроенной функцией list"
   ]
  },
  {
   "cell_type": "code",
   "execution_count": 1,
   "id": "ffc69ba3",
   "metadata": {},
   "outputs": [
    {
     "data": {
      "text/plain": [
       "['с', 'п', 'и', 'с', 'о', 'к']"
      ]
     },
     "execution_count": 1,
     "metadata": {},
     "output_type": "execute_result"
    }
   ],
   "source": [
    "list('список')"
   ]
  },
  {
   "cell_type": "markdown",
   "id": "a2cc1ec7",
   "metadata": {},
   "source": [
    "или при помощи литералов списка (квадратные скобюки)"
   ]
  },
  {
   "cell_type": "code",
   "execution_count": 2,
   "id": "3f6164ff",
   "metadata": {},
   "outputs": [
    {
     "name": "stdout",
     "output_type": "stream",
     "text": [
      "['s', 'p', 'i', 's', 'o', 'k']\n"
     ]
    }
   ],
   "source": [
    "l = ['s','p','i','s','o','k']\n",
    "print(l)"
   ]
  },
  {
   "cell_type": "markdown",
   "id": "5a5f664a",
   "metadata": {},
   "source": [
    "список может содержать любое количество любых объектов (в том числе и вложенные списки), или не содержать ничего\n",
    "\n",
    "И еще один способ создать список - это генераторы списков. Генератор списков - способ построить новый список, применяя выражение к каждому элементу последовательности. Генераторы списков очень похожи на цикл for."
   ]
  },
  {
   "cell_type": "code",
   "execution_count": 1,
   "id": "d964524f",
   "metadata": {},
   "outputs": [
    {
     "name": "stdout",
     "output_type": "stream",
     "text": [
      "['lll', 'iii', 'sss', 'ttt']\n"
     ]
    }
   ],
   "source": [
    "c = [c * 3 for c in 'list']\n",
    "print(c)"
   ]
  },
  {
   "cell_type": "code",
   "execution_count": 3,
   "id": "d113ba7a",
   "metadata": {},
   "outputs": [
    {
     "data": {
      "text/plain": [
       "[5, 20, 27.5, 40, 'aaaaa']"
      ]
     },
     "execution_count": 3,
     "metadata": {},
     "output_type": "execute_result"
    }
   ],
   "source": [
    "spisok = [1, 4, 5.5, 8, 'a']\n",
    "spisok2 = [element*5 for element in spisok]\n",
    "spisok2"
   ]
  },
  {
   "cell_type": "markdown",
   "id": "af20d4f7",
   "metadata": {},
   "source": [
    "# Функции и методы списков"
   ]
  },
  {
   "cell_type": "markdown",
   "id": "236769d2",
   "metadata": {},
   "source": [
    "- list.append(x) Добавляет элемент в конец списка\n",
    "- list.extend(L) Расширяет список list, добавляя в конец все элементы списка L\n",
    "- list.insert(i, x) Вставляет на i-ый элемент значение x\n",
    "- list.remove(x) Удаляет первый элемент в списке, имеющий значение x, вызывает ValueError, если такого элемента не существует\n",
    "- list.pop([i]) Удаляет i-ый элемент и возвращает его. Если индекс не указан, удаляется последний элемент\n",
    "- list.index(x, [start [, end]]) Возвращает положение первого элемента со значением x (при этом поиск ведется от start до end)\n",
    "- list.count(x) Возвращает количество элементов со значением x\n",
    "- list.sort([key=функция]) Сортирует список на основе функции\n",
    "- list.reverse() Разворачивает список\n",
    "- list.copy() Поверхностная копия списка\n",
    "- list.clear() Очищает список"
   ]
  },
  {
   "cell_type": "markdown",
   "id": "c8a13354",
   "metadata": {},
   "source": [
    "Важно помнить, что методы списков, в отличие от строковых методов, изменяют сам список, а потому результат выполнения не нужно записывать в переменную."
   ]
  },
  {
   "cell_type": "code",
   "execution_count": 4,
   "id": "d63422f8",
   "metadata": {},
   "outputs": [
    {
     "name": "stdout",
     "output_type": "stream",
     "text": [
      "None\n",
      "[1, 3, 5, 6, 7]\n"
     ]
    }
   ],
   "source": [
    "l = [1, 6, 3, 5, 7]\n",
    "h = l.sort()\n",
    "print(h)    # вывод None\n",
    "print(l)    # вывод списка"
   ]
  },
  {
   "cell_type": "code",
   "execution_count": 2,
   "id": "90ce5ffd",
   "metadata": {},
   "outputs": [
    {
     "name": "stdout",
     "output_type": "stream",
     "text": [
      "2 1 0\n"
     ]
    }
   ],
   "source": [
    "a = [66.25, 333, 333, 1, 1234.5]\n",
    "print(a.count(333), a.count(66.25), a.count('x'))"
   ]
  },
  {
   "cell_type": "code",
   "execution_count": 4,
   "id": "e54c578a",
   "metadata": {},
   "outputs": [
    {
     "name": "stdout",
     "output_type": "stream",
     "text": [
      "[66.25, 333, -1, -1, 333, 1, 1234.5, 444, 444]\n"
     ]
    }
   ],
   "source": [
    "a.insert(2, -1)\n",
    "a.append(444)\n",
    "print(a)"
   ]
  },
  {
   "cell_type": "code",
   "execution_count": 10,
   "id": "43c88ac3",
   "metadata": {},
   "outputs": [
    {
     "data": {
      "text/plain": [
       "10"
      ]
     },
     "execution_count": 10,
     "metadata": {},
     "output_type": "execute_result"
    }
   ],
   "source": [
    "a.index(333)\n",
    "\n",
    "b = 'dfgrdsgrde, erffger'\n",
    "b.index(',')"
   ]
  },
  {
   "cell_type": "code",
   "execution_count": 12,
   "id": "0a6a9def",
   "metadata": {},
   "outputs": [
    {
     "name": "stdout",
     "output_type": "stream",
     "text": [
      "[66.25, -1, -1, 1, 1234.5, 333, 444]\n",
      "None\n"
     ]
    }
   ],
   "source": [
    "b = a.remove(333)\n",
    "print(a)\n",
    "print(b)"
   ]
  },
  {
   "cell_type": "code",
   "execution_count": 13,
   "id": "c3aa68f7",
   "metadata": {},
   "outputs": [
    {
     "name": "stdout",
     "output_type": "stream",
     "text": [
      "[444, 333, 1234.5, 1, -1, -1, 66.25]\n"
     ]
    }
   ],
   "source": [
    "a.reverse()\n",
    "print(a)"
   ]
  },
  {
   "cell_type": "markdown",
   "id": "4a7ae756",
   "metadata": {},
   "source": [
    "# Кортежи (tuple)"
   ]
  },
  {
   "cell_type": "markdown",
   "id": "87cda2c3",
   "metadata": {},
   "source": [
    "Кортеж - это неизменяемый список.\n",
    "\n",
    "- защита от дурака. То есть кортеж защищен от изменений, как намеренных (что плохо), так и случайных (что хорошо).\n",
    "- меньший размер. Дабы не быть голословным"
   ]
  },
  {
   "cell_type": "code",
   "execution_count": 14,
   "id": "c4893811",
   "metadata": {},
   "outputs": [
    {
     "name": "stdout",
     "output_type": "stream",
     "text": [
      "88\n"
     ]
    }
   ],
   "source": [
    "b = [1, 2, 3, 4, 5, 6]  # создаем список\n",
    "print(b.__sizeof__())"
   ]
  },
  {
   "cell_type": "code",
   "execution_count": 15,
   "id": "3fcdf71f",
   "metadata": {},
   "outputs": [
    {
     "name": "stdout",
     "output_type": "stream",
     "text": [
      "72\n"
     ]
    }
   ],
   "source": [
    "a = (1, 2, 3, 4, 5, 6)  # создаем кортеж\n",
    "print(a.__sizeof__())"
   ]
  },
  {
   "cell_type": "code",
   "execution_count": 16,
   "id": "c0580401",
   "metadata": {},
   "outputs": [
    {
     "data": {
      "text/plain": [
       "('к', 'о', 'р', 'т', 'е', 'ж')"
      ]
     },
     "execution_count": 16,
     "metadata": {},
     "output_type": "execute_result"
    }
   ],
   "source": [
    "tuple('кортеж')"
   ]
  },
  {
   "cell_type": "code",
   "execution_count": 17,
   "id": "ca21c2a9",
   "metadata": {},
   "outputs": [
    {
     "name": "stdout",
     "output_type": "stream",
     "text": [
      "('k', 'o', 'r', 't', 'e', 'j')\n"
     ]
    }
   ],
   "source": [
    "t = ('k','o','r','t','e','j')\n",
    "print(t)"
   ]
  },
  {
   "cell_type": "markdown",
   "id": "62049364",
   "metadata": {},
   "source": [
    "# Операции с кортежами"
   ]
  },
  {
   "cell_type": "markdown",
   "id": "8f04c2f0",
   "metadata": {},
   "source": [
    "Все операции над списками, не изменяющие список (сложение, умножение на число, методы index(), count() и пр). Можно также по-разному менять элементы местами и так далее.\n",
    "\n",
    "Пример: Быстрая смена значений переменных"
   ]
  },
  {
   "cell_type": "code",
   "execution_count": 19,
   "id": "54227a9b",
   "metadata": {},
   "outputs": [
    {
     "name": "stdout",
     "output_type": "stream",
     "text": [
      "1 0\n"
     ]
    }
   ],
   "source": [
    "a = 0; b = 1\n",
    "(a,b) = (b,a)\n",
    "print(a,b)"
   ]
  },
  {
   "cell_type": "markdown",
   "id": "44fb053f",
   "metadata": {},
   "source": [
    "# Множества (set)"
   ]
  },
  {
   "cell_type": "markdown",
   "id": "a4d2db3c",
   "metadata": {},
   "source": [
    "Множество в python - \"контейнер\", содержащий не повторяющиеся элементы в случайном порядке."
   ]
  },
  {
   "cell_type": "code",
   "execution_count": 20,
   "id": "039dc819",
   "metadata": {},
   "outputs": [
    {
     "name": "stdout",
     "output_type": "stream",
     "text": [
      "{'c', 'b', 'a'}\n"
     ]
    }
   ],
   "source": [
    "s = {'a','b','c'} # литералы множеств\n",
    "print(s)"
   ]
  },
  {
   "cell_type": "code",
   "execution_count": 21,
   "id": "8c43e081",
   "metadata": {},
   "outputs": [
    {
     "name": "stdout",
     "output_type": "stream",
     "text": [
      "{'e', 'o', 'h', 'l'}\n"
     ]
    }
   ],
   "source": [
    "s = set('hello')  # команда set()\n",
    "print(s)"
   ]
  },
  {
   "cell_type": "code",
   "execution_count": 22,
   "id": "a033c92c",
   "metadata": {},
   "outputs": [
    {
     "name": "stdout",
     "output_type": "stream",
     "text": [
      "{0, 1, 64, 4, 36, 9, 16, 49, 81, 25}\n"
     ]
    }
   ],
   "source": [
    "s = {c ** 2 for c in range(10)} # генератор множеств\n",
    "print(s)"
   ]
  },
  {
   "cell_type": "markdown",
   "id": "c6704f55",
   "metadata": {},
   "source": [
    "Пустое множество нельзя создать с помощью литералов, но можно другими способами.\n",
    "\n",
    "Множества удобно использовать для быстрого удаления повторяющихся элементов"
   ]
  },
  {
   "cell_type": "code",
   "execution_count": 23,
   "id": "0e77cad4",
   "metadata": {},
   "outputs": [
    {
     "data": {
      "text/plain": [
       "{'e', 'h', 'l', 'o'}"
      ]
     },
     "execution_count": 23,
     "metadata": {},
     "output_type": "execute_result"
    }
   ],
   "source": [
    "set('hello')"
   ]
  },
  {
   "cell_type": "code",
   "execution_count": 24,
   "id": "54119d45",
   "metadata": {},
   "outputs": [
    {
     "data": {
      "text/plain": [
       "{'dad', 'hello', 'name'}"
      ]
     },
     "execution_count": 24,
     "metadata": {},
     "output_type": "execute_result"
    }
   ],
   "source": [
    "words = ['hello', 'dad', 'hello', 'name']\n",
    "set(words)"
   ]
  },
  {
   "cell_type": "markdown",
   "id": "4901253b",
   "metadata": {},
   "source": [
    "# Операции с множествами"
   ]
  },
  {
   "cell_type": "markdown",
   "id": "4b5eca87",
   "metadata": {},
   "source": [
    "С множествами можно выполнять множество операций: находить объединение, пересечение и пр:\n",
    "\n",
    "- len(s) - число элементов в множестве (размер множества).\n",
    "- x in s - принадлежит ли x множеству s.\n",
    "- set.isdisjoint(other) - истина, если set и other не имеют общих элементов.\n",
    "- set == other - все элементы set принадлежат other, все элементы other принадлежат set.\n",
    "- set.issubset(other) или set <= other - все элементы set принадлежат other.\n",
    "- set.issuperset(other) или set >= other - аналогично."
   ]
  },
  {
   "cell_type": "code",
   "execution_count": 19,
   "id": "24585077",
   "metadata": {},
   "outputs": [
    {
     "name": "stdout",
     "output_type": "stream",
     "text": [
      "4\n",
      "True\n"
     ]
    }
   ],
   "source": [
    "s = set('hello')\n",
    "print(len(s))\n",
    "print('o' in s)"
   ]
  },
  {
   "cell_type": "markdown",
   "id": "a1639873",
   "metadata": {},
   "source": [
    "Следующие операции возвращают в качестве результата новое множество:\n",
    "\n",
    "- set.union(other, ...) или set | other | ... - объединение нескольких множеств.\n",
    "- set.intersection(other, ...) или set & other & ... - пересечение.\n",
    "- set.difference(other, ...) или set - other - ... - множество из всех элементов set, не принадлежащие ни одному из other.\n",
    "- set.symmetric_difference(other); set ^ other - множество из элементов, встречающихся в одном множестве, но не встречающиеся в обоих.\n",
    "- set.copy() - копия множества."
   ]
  },
  {
   "cell_type": "code",
   "execution_count": 20,
   "id": "0369b217",
   "metadata": {},
   "outputs": [
    {
     "name": "stdout",
     "output_type": "stream",
     "text": [
      "{1, 2, 3, 4, 5, 6, 7}\n",
      "{1, 2}\n"
     ]
    }
   ],
   "source": [
    "s1 = {1,2,3,4,5}\n",
    "s2 = {3,4,5,6,7}\n",
    "print(s1.union(s2))\n",
    "print(s1.difference(s2))"
   ]
  },
  {
   "cell_type": "markdown",
   "id": "521d66c1",
   "metadata": {},
   "source": [
    "И операции, непосредственно изменяющие само множество:\n",
    "\n",
    "- set.update(other, ...); set |= other | ... - объединение.\n",
    "- set.intersection_update(other, ...); set &= other & ... - пересечение.\n",
    "- set.difference_update(other, ...); set -= other | ... - вычитание.\n",
    "- set.symmetric_difference_update(other); set ^= other - множество из элементов, встречающихся в одном множестве, но не встречающиеся в обоих.\n",
    "- set.add(elem) - добавляет элемент в множество.\n",
    "- set.remove(elem) - удаляет элемент из множества. KeyError, если такого элемента не существует.\n",
    "- set.discard(elem) - удаляет элемент, если он находится в множестве.\n",
    "- set.pop() - удаляет первый элемент из множества. Так как множества не упорядочены, нельзя точно сказать, какой элемент будет первым.\n",
    "- set.clear() - очистка множества.\n",
    "Примеры:"
   ]
  },
  {
   "cell_type": "code",
   "execution_count": 84,
   "id": "fdaec0e0",
   "metadata": {},
   "outputs": [
    {
     "name": "stdout",
     "output_type": "stream",
     "text": [
      "{1, 2, 3, 4, 5, 6, 7}\n",
      "{1, 2, 3, 4, 5, 6, 7}\n"
     ]
    }
   ],
   "source": [
    "s = {1,2,3,4,5}\n",
    "s.update({3,4,5,6,7})\n",
    "print(s)\n",
    "s.clear\n",
    "print(s)"
   ]
  },
  {
   "cell_type": "markdown",
   "id": "2ae55d7c",
   "metadata": {},
   "source": [
    "# Словари (dict)"
   ]
  },
  {
   "cell_type": "markdown",
   "id": "909409cd",
   "metadata": {},
   "source": [
    "Словари в Python - неупорядоченные коллекции произвольных объектов с доступом по ключу. Их иногда ещё называют ассоциативными массивами или хеш-таблицами."
   ]
  },
  {
   "cell_type": "code",
   "execution_count": 21,
   "id": "ba84a071",
   "metadata": {},
   "outputs": [
    {
     "name": "stdout",
     "output_type": "stream",
     "text": [
      "{'key1': 'value1', 'key2': 'value2'}\n"
     ]
    }
   ],
   "source": [
    "d = {'key1': 'value1', 'key2': 'value2'}  # литералы словаря\n",
    "print(d)"
   ]
  },
  {
   "cell_type": "code",
   "execution_count": 22,
   "id": "3876ce7d",
   "metadata": {},
   "outputs": [
    {
     "name": "stdout",
     "output_type": "stream",
     "text": [
      "{1: 1, 2: 4}\n"
     ]
    }
   ],
   "source": [
    "d = dict([(1, 1), (2, 4)])  # встроенная команда  dict()\n",
    "print(d)"
   ]
  },
  {
   "cell_type": "code",
   "execution_count": 23,
   "id": "ad1d878b",
   "metadata": {},
   "outputs": [
    {
     "name": "stdout",
     "output_type": "stream",
     "text": [
      "{'a': 100, 'b': 100}\n"
     ]
    }
   ],
   "source": [
    "d = dict.fromkeys(['a', 'b'], 100) # вспомогательный метод fromkeys\n",
    "print(d)"
   ]
  },
  {
   "cell_type": "code",
   "execution_count": 25,
   "id": "429c94ae",
   "metadata": {},
   "outputs": [
    {
     "name": "stdout",
     "output_type": "stream",
     "text": [
      "{0: 0, 1: 1, 2: 4, 3: 9, 4: 16, 5: 25, 6: 36}\n"
     ]
    }
   ],
   "source": [
    "d = {a: a ** 2 for a in range(7)}  # генератор словарей\n",
    "print(d)"
   ]
  },
  {
   "cell_type": "markdown",
   "id": "b09d074a",
   "metadata": {},
   "source": [
    "При работе со словарями необходимо помнить, что присвоение по новому ключу расширяет словарь, присвоение по существующему ключу перезаписывает его, а попытка извлечения несуществующего ключа порождает исключение (ошибку)."
   ]
  },
  {
   "cell_type": "code",
   "execution_count": 26,
   "id": "36e9a0b2",
   "metadata": {},
   "outputs": [
    {
     "name": "stdout",
     "output_type": "stream",
     "text": [
      "2\n",
      "16\n",
      "{1: 2, 2: 4, 3: 9, 4: 13}\n"
     ]
    }
   ],
   "source": [
    "d = {1: 2, 2: 4, 3: 9}\n",
    "print(d[1])\n",
    "d[4] = 4 ** 2\n",
    "print(d[4])\n",
    "d[4] = 13\n",
    "print(d)"
   ]
  },
  {
   "cell_type": "code",
   "execution_count": 27,
   "id": "eab7747b",
   "metadata": {},
   "outputs": [
    {
     "ename": "KeyError",
     "evalue": "5",
     "output_type": "error",
     "traceback": [
      "\u001b[1;31m---------------------------------------------------------------------------\u001b[0m",
      "\u001b[1;31mKeyError\u001b[0m                                  Traceback (most recent call last)",
      "\u001b[1;32m<ipython-input-27-d8a17d6d9f4e>\u001b[0m in \u001b[0;36m<module>\u001b[1;34m\u001b[0m\n\u001b[1;32m----> 1\u001b[1;33m \u001b[0mprint\u001b[0m\u001b[1;33m(\u001b[0m\u001b[0md\u001b[0m\u001b[1;33m[\u001b[0m\u001b[1;36m5\u001b[0m\u001b[1;33m]\u001b[0m\u001b[1;33m)\u001b[0m  \u001b[1;31m# обращение к несуществующему ключу\u001b[0m\u001b[1;33m\u001b[0m\u001b[1;33m\u001b[0m\u001b[0m\n\u001b[0m",
      "\u001b[1;31mKeyError\u001b[0m: 5"
     ]
    }
   ],
   "source": [
    "print(d[5])  # обращение к несуществующему ключу"
   ]
  },
  {
   "cell_type": "markdown",
   "id": "b8c80f54",
   "metadata": {},
   "source": [
    "# Операции со словарями"
   ]
  },
  {
   "cell_type": "markdown",
   "id": "411b8807",
   "metadata": {},
   "source": [
    "- dict.clear() - очищает словарь.\n",
    "- dict.copy() - возвращает копию словаря.\n",
    "- dict.get(key[, default]) - возвращает значение ключа, но если его нет, не бросает исключение, а возвращает default (по умолчанию None).\n",
    "- dict.items() - возвращает пары (ключ, значение).\n",
    "- dict.keys() - возвращает ключи в словаре.\n",
    "- dict.pop(key[, default]) - удаляет ключ и возвращает значение. Если ключа нет, возвращает default (по умолчанию бросает исключение).\n",
    "- dict.popitem() - удаляет и возвращает пару (ключ, значение). Если словарь пуст, бросает исключение KeyError. Помните, что словари неупорядочены.\n",
    "- dict.setdefault(key[, default]) - возвращает значение ключа, но если его нет, не бросает исключение, а создает ключ с значением default (по умолчанию None).\n",
    "- dict.update([other]) - обновляет словарь, добавляя пары (ключ, значение) из other. Существующие ключи перезаписываются. Возвращает None (не новый словарь!).\n",
    "- dict.values() - возвращает значения в словаре."
   ]
  },
  {
   "cell_type": "markdown",
   "id": "8e7246b5",
   "metadata": {},
   "source": [
    "Примеры:"
   ]
  },
  {
   "cell_type": "code",
   "execution_count": 28,
   "id": "b2372834",
   "metadata": {},
   "outputs": [
    {
     "name": "stdout",
     "output_type": "stream",
     "text": [
      "{0: 0, 1: 1, 2: 4, 3: 9, 4: 16}\n"
     ]
    }
   ],
   "source": [
    "d = {i: i**2 for i in range(5)}\n",
    "print(d)"
   ]
  },
  {
   "cell_type": "code",
   "execution_count": 29,
   "id": "399b74b8",
   "metadata": {},
   "outputs": [
    {
     "name": "stdout",
     "output_type": "stream",
     "text": [
      "16\n",
      "16\n",
      "-1\n"
     ]
    }
   ],
   "source": [
    "print(d.get(4))\n",
    "print(d[4])\n",
    "print(d.get(5,-1))"
   ]
  },
  {
   "cell_type": "code",
   "execution_count": 28,
   "id": "e2ee59a7",
   "metadata": {},
   "outputs": [
    {
     "name": "stdout",
     "output_type": "stream",
     "text": [
      "[0, 1, 2, 3, 4]\n",
      "dict_keys([0, 1, 2, 3, 4])\n"
     ]
    }
   ],
   "source": [
    "keys = list(d.keys())\n",
    "print(keys)\n",
    "print(d.keys())"
   ]
  },
  {
   "cell_type": "code",
   "execution_count": 30,
   "id": "4620499d",
   "metadata": {},
   "outputs": [
    {
     "name": "stdout",
     "output_type": "stream",
     "text": [
      "{0: 0, 1: 1, 2: 4, 3: 9, 4: 16, 5: 25}\n"
     ]
    }
   ],
   "source": [
    "d.setdefault(5,25)\n",
    "print(d)"
   ]
  },
  {
   "cell_type": "markdown",
   "id": "f4c9bae0",
   "metadata": {},
   "source": [
    "# Функции"
   ]
  },
  {
   "cell_type": "markdown",
   "id": "707a8503",
   "metadata": {},
   "source": [
    "Функция в python - объект, принимающий аргументы для обработки и возвращающий некоторое значение. Функции определяются с помощью инструкции def."
   ]
  },
  {
   "cell_type": "code",
   "execution_count": 31,
   "id": "4c209ea8",
   "metadata": {},
   "outputs": [],
   "source": [
    "def add(x, y):\n",
    "    return x + y"
   ]
  },
  {
   "cell_type": "markdown",
   "id": "7fd75e17",
   "metadata": {},
   "source": [
    "Инструкция return говорит, что нужно вернуть значение. В этом примере функция возвращает сумму x и y. Теперь, когда функция определена, ее можно вызвать по имени функции."
   ]
  },
  {
   "cell_type": "code",
   "execution_count": 32,
   "id": "42a6c920",
   "metadata": {},
   "outputs": [
    {
     "data": {
      "text/plain": [
       "9"
      ]
     },
     "execution_count": 32,
     "metadata": {},
     "output_type": "execute_result"
    }
   ],
   "source": [
    "add(4,5)"
   ]
  },
  {
   "cell_type": "markdown",
   "id": "51be7172",
   "metadata": {},
   "source": [
    "Функция может быть любой сложности и возвращать любые объекты (списки, кортежи, и даже другие функции!)"
   ]
  },
  {
   "cell_type": "code",
   "execution_count": 35,
   "id": "9703b41d",
   "metadata": {},
   "outputs": [],
   "source": [
    "def newfunc(n):\n",
    "    def myfunc(x):\n",
    "        return x + n\n",
    "    return myfunc"
   ]
  },
  {
   "cell_type": "code",
   "execution_count": 36,
   "id": "e4fb02af",
   "metadata": {},
   "outputs": [
    {
     "data": {
      "text/plain": [
       "300"
      ]
     },
     "execution_count": 36,
     "metadata": {},
     "output_type": "execute_result"
    }
   ],
   "source": [
    "new = newfunc(100)  # new - это функция\n",
    "new(200)"
   ]
  },
  {
   "cell_type": "markdown",
   "id": "f0f4a874",
   "metadata": {},
   "source": [
    "Функция может и не заканчиваться инструкцией return, при этом функция вернет значение None."
   ]
  },
  {
   "cell_type": "code",
   "execution_count": 38,
   "id": "d7a5cda5",
   "metadata": {},
   "outputs": [],
   "source": [
    "def func():\n",
    "    '''\n",
    "    эта функция нам когда-нибудь понадобится\n",
    "    '''\n",
    "    pass"
   ]
  },
  {
   "cell_type": "code",
   "execution_count": 39,
   "id": "8c0b40dc",
   "metadata": {},
   "outputs": [
    {
     "name": "stdout",
     "output_type": "stream",
     "text": [
      "None\n"
     ]
    }
   ],
   "source": [
    "print(func())"
   ]
  },
  {
   "cell_type": "markdown",
   "id": "a63074ca",
   "metadata": {},
   "source": [
    "# Аргументы функции"
   ]
  },
  {
   "cell_type": "markdown",
   "id": "0b1abb88",
   "metadata": {},
   "source": [
    "Функция может принимать произвольное количество аргументов или не принимать их вовсе. Также распространены функции с произвольным числом аргументов, функции с позиционными и именованными аргументами, обязательными и необязательными."
   ]
  },
  {
   "cell_type": "code",
   "execution_count": 40,
   "id": "17064bbd",
   "metadata": {},
   "outputs": [],
   "source": [
    "def func(a, b, c=2): # c - необязательный аргумент\n",
    "    return a + b + c"
   ]
  },
  {
   "cell_type": "code",
   "execution_count": 41,
   "id": "b476f19c",
   "metadata": {},
   "outputs": [
    {
     "data": {
      "text/plain": [
       "5"
      ]
     },
     "execution_count": 41,
     "metadata": {},
     "output_type": "execute_result"
    }
   ],
   "source": [
    "func(1, 2)  # a = 1, b = 2, c = 2 (по умолчанию)"
   ]
  },
  {
   "cell_type": "code",
   "execution_count": 42,
   "id": "486a5217",
   "metadata": {},
   "outputs": [
    {
     "data": {
      "text/plain": [
       "6"
      ]
     },
     "execution_count": 42,
     "metadata": {},
     "output_type": "execute_result"
    }
   ],
   "source": [
    "func(1, 2, 3)  # a = 1, b = 2, c = 3"
   ]
  },
  {
   "cell_type": "code",
   "execution_count": 39,
   "id": "4e226c3d",
   "metadata": {},
   "outputs": [
    {
     "data": {
      "text/plain": [
       "6"
      ]
     },
     "execution_count": 39,
     "metadata": {},
     "output_type": "execute_result"
    }
   ],
   "source": [
    "func(b=3, a=1)  # a = 1, b = 3, c = 2"
   ]
  },
  {
   "cell_type": "code",
   "execution_count": 43,
   "id": "c0350672",
   "metadata": {},
   "outputs": [
    {
     "ename": "TypeError",
     "evalue": "func() missing 1 required positional argument: 'b'",
     "output_type": "error",
     "traceback": [
      "\u001b[1;31m---------------------------------------------------------------------------\u001b[0m",
      "\u001b[1;31mTypeError\u001b[0m                                 Traceback (most recent call last)",
      "\u001b[1;32m<ipython-input-43-7a9ce86037e2>\u001b[0m in \u001b[0;36m<module>\u001b[1;34m\u001b[0m\n\u001b[1;32m----> 1\u001b[1;33m \u001b[0mfunc\u001b[0m\u001b[1;33m(\u001b[0m\u001b[0ma\u001b[0m\u001b[1;33m=\u001b[0m\u001b[1;36m3\u001b[0m\u001b[1;33m,\u001b[0m \u001b[0mc\u001b[0m\u001b[1;33m=\u001b[0m\u001b[1;36m6\u001b[0m\u001b[1;33m)\u001b[0m  \u001b[1;31m# a = 3, c = 6, b не определен -> ошибка при вызовe\u001b[0m\u001b[1;33m\u001b[0m\u001b[1;33m\u001b[0m\u001b[0m\n\u001b[0m",
      "\u001b[1;31mTypeError\u001b[0m: func() missing 1 required positional argument: 'b'"
     ]
    }
   ],
   "source": [
    "func(a=3, c=6)  # a = 3, c = 6, b не определен -> ошибка при вызовe"
   ]
  },
  {
   "cell_type": "markdown",
   "id": "7a4c5448",
   "metadata": {},
   "source": [
    "Функция также может принимать переменное количество позиционных аргументов, тогда перед именем ставится *. Как видно из примера ниже, args - это кортеж из всех переданных аргументов функции, и с переменной можно работать также, как и с кортежем."
   ]
  },
  {
   "cell_type": "code",
   "execution_count": 44,
   "id": "628b4ab2",
   "metadata": {},
   "outputs": [],
   "source": [
    "def func(*args):\n",
    "    return args"
   ]
  },
  {
   "cell_type": "code",
   "execution_count": 45,
   "id": "922187cd",
   "metadata": {},
   "outputs": [
    {
     "data": {
      "text/plain": [
       "(1, 2, 3, 'abc')"
      ]
     },
     "execution_count": 45,
     "metadata": {},
     "output_type": "execute_result"
    }
   ],
   "source": [
    "func(1, 2, 3, 'abc')"
   ]
  },
  {
   "cell_type": "code",
   "execution_count": 46,
   "id": "70470864",
   "metadata": {},
   "outputs": [
    {
     "data": {
      "text/plain": [
       "()"
      ]
     },
     "execution_count": 46,
     "metadata": {},
     "output_type": "execute_result"
    }
   ],
   "source": [
    "func()"
   ]
  },
  {
   "cell_type": "markdown",
   "id": "53d8442d",
   "metadata": {},
   "source": [
    "Функция может принимать и произвольное число именованных аргументов, тогда перед именем ставится две звездочки. В переменной kwargs у нас хранится словарь, с которым мы, опять-таки, можем делать все, что нам заблагорассудится."
   ]
  },
  {
   "cell_type": "code",
   "execution_count": 47,
   "id": "09606417",
   "metadata": {},
   "outputs": [],
   "source": [
    "def func(**kwargs):\n",
    "    return kwargs"
   ]
  },
  {
   "cell_type": "code",
   "execution_count": 48,
   "id": "e98b9f76",
   "metadata": {},
   "outputs": [
    {
     "data": {
      "text/plain": [
       "{'a': 1, 'b': 2, 'c': 3}"
      ]
     },
     "execution_count": 48,
     "metadata": {},
     "output_type": "execute_result"
    }
   ],
   "source": [
    "func(a=1, b=2, c=3)"
   ]
  },
  {
   "cell_type": "code",
   "execution_count": 46,
   "id": "9cdd92a8",
   "metadata": {},
   "outputs": [
    {
     "data": {
      "text/plain": [
       "{}"
      ]
     },
     "execution_count": 46,
     "metadata": {},
     "output_type": "execute_result"
    }
   ],
   "source": [
    "func()"
   ]
  },
  {
   "cell_type": "markdown",
   "id": "ab1a220b",
   "metadata": {},
   "source": [
    "# Анонимные функции, инструкция lambda"
   ]
  },
  {
   "cell_type": "markdown",
   "id": "c2b4ca2d",
   "metadata": {},
   "source": [
    "Анонимные функции могут содержать лишь одно выражение, но и выполняются они быстрее. Анонимные функции создаются с помощью инструкции lambda. Кроме этого, их не обязательно присваивать переменной, как происходит с инструкцией def func():"
   ]
  },
  {
   "cell_type": "code",
   "execution_count": 49,
   "id": "29153398",
   "metadata": {},
   "outputs": [],
   "source": [
    "func = lambda x, y: x + y"
   ]
  },
  {
   "cell_type": "code",
   "execution_count": 50,
   "id": "4ab8b11b",
   "metadata": {},
   "outputs": [
    {
     "data": {
      "text/plain": [
       "3"
      ]
     },
     "execution_count": 50,
     "metadata": {},
     "output_type": "execute_result"
    }
   ],
   "source": [
    "func(1, 2)"
   ]
  },
  {
   "cell_type": "code",
   "execution_count": 51,
   "id": "2b2b25fc",
   "metadata": {},
   "outputs": [
    {
     "data": {
      "text/plain": [
       "'ab'"
      ]
     },
     "execution_count": 51,
     "metadata": {},
     "output_type": "execute_result"
    }
   ],
   "source": [
    "(lambda x, y: x + y)('a', 'b')"
   ]
  },
  {
   "cell_type": "markdown",
   "id": "f053564b",
   "metadata": {},
   "source": [
    "lambda функции, в отличие от обычной, не требуется инструкция return, а в остальном, ведет себя точно так же."
   ]
  },
  {
   "cell_type": "code",
   "execution_count": 52,
   "id": "d63921c3",
   "metadata": {},
   "outputs": [
    {
     "data": {
      "text/plain": [
       "(1, 2, 3, 4)"
      ]
     },
     "execution_count": 52,
     "metadata": {},
     "output_type": "execute_result"
    }
   ],
   "source": [
    "func = lambda *args: args\n",
    "func(1, 2, 3, 4)"
   ]
  },
  {
   "cell_type": "markdown",
   "id": "71420f44",
   "metadata": {},
   "source": [
    "# Рекурсии"
   ]
  },
  {
   "cell_type": "markdown",
   "id": "a9bccc20",
   "metadata": {},
   "source": [
    "В программировании рекурсия — вызов функции (процедуры) из неё же самой, непосредственно (простая рекурсия) или через другие функции (сложная или косвенная рекурсия), например, функция A вызывает функцию B, а функция B — функцию A."
   ]
  },
  {
   "cell_type": "code",
   "execution_count": 53,
   "id": "82b198b5",
   "metadata": {},
   "outputs": [],
   "source": [
    "def rec():\n",
    "    print(\"I'm a recursive function!\")\n",
    "    rec()"
   ]
  },
  {
   "cell_type": "markdown",
   "id": "d3c53200",
   "metadata": {},
   "source": [
    "Количество вложенных вызовов функции или процедуры называется глубиной рекурсии. Рекурсивная программа позволяет описать повторяющееся или даже потенциально бесконечное вычисление, причём без явных повторений частей кода и циклов."
   ]
  },
  {
   "cell_type": "code",
   "execution_count": 54,
   "id": "6c937a51",
   "metadata": {},
   "outputs": [],
   "source": [
    "def factorial(n):\n",
    "    if n==0:\n",
    "        return 1\n",
    "    else:\n",
    "        return n * factorial(n-1)"
   ]
  },
  {
   "cell_type": "code",
   "execution_count": 55,
   "id": "e908ac10",
   "metadata": {},
   "outputs": [
    {
     "data": {
      "text/plain": [
       "120"
      ]
     },
     "execution_count": 55,
     "metadata": {},
     "output_type": "execute_result"
    }
   ],
   "source": [
    "factorial(5)"
   ]
  },
  {
   "cell_type": "markdown",
   "id": "beca98f9",
   "metadata": {},
   "source": [
    "Структурно рекурсия всегда представляет собой команду ветвления в зависимости от условия, которое в данном случае уместно назвать «условием прекращения рекурсии», и имеет две или более альтернативные ветви, из которых хотя бы одна является рекурсивной и хотя бы одна — терминальной."
   ]
  },
  {
   "cell_type": "code",
   "execution_count": 56,
   "id": "104d4d99",
   "metadata": {},
   "outputs": [],
   "source": [
    "def pow(x,n):\n",
    "    if n==0:\n",
    "        return 1\n",
    "    else:\n",
    "        return x * pow(x,n-1)"
   ]
  },
  {
   "cell_type": "code",
   "execution_count": 57,
   "id": "ae150944",
   "metadata": {},
   "outputs": [
    {
     "data": {
      "text/plain": [
       "32"
      ]
     },
     "execution_count": 57,
     "metadata": {},
     "output_type": "execute_result"
    }
   ],
   "source": [
    "pow(2,5)"
   ]
  },
  {
   "cell_type": "markdown",
   "id": "fdd14db7",
   "metadata": {},
   "source": [
    "Самые частые ошибки при построении рукурсии:\n",
    "\n",
    "- бесконечная глубина рекурсии (например, отсутствие условия выхода, как в первом примере)\n",
    "- недостижимое условие выхода из рекурсии (например, выозв рекурсии с теми же параметрами без изменений на каждом шаге)"
   ]
  },
  {
   "cell_type": "markdown",
   "id": "52b5b834",
   "metadata": {},
   "source": [
    "# Задание"
   ]
  },
  {
   "cell_type": "markdown",
   "id": "26f81b17",
   "metadata": {},
   "source": [
    "1. Реализуйте функцию со следующим функционалом. Найти наименьшее общее кратное (НОК) пар чисел по формуле НОК = ab / НОД(a,b), где a и b - это натуральные числа, НОД - наибольший общий делитель.\n",
    "2. Проверить является ли число простым. Реализовать в виде функции, принимающей один аргумент и возвращающей True или False.\n",
    "3. Реализовать функцию со следующим функционалом: найти сумму цифр произвольного положительного числа.\n"
   ]
  },
  {
   "cell_type": "code",
   "execution_count": null,
   "id": "05237c65",
   "metadata": {},
   "outputs": [],
   "source": []
  },
  {
   "cell_type": "code",
   "execution_count": null,
   "id": "7f15b681",
   "metadata": {},
   "outputs": [],
   "source": []
  }
 ],
 "metadata": {
  "kernelspec": {
   "display_name": "Python 3",
   "language": "python",
   "name": "python3"
  },
  "language_info": {
   "codemirror_mode": {
    "name": "ipython",
    "version": 3
   },
   "file_extension": ".py",
   "mimetype": "text/x-python",
   "name": "python",
   "nbconvert_exporter": "python",
   "pygments_lexer": "ipython3",
   "version": "3.8.8"
  }
 },
 "nbformat": 4,
 "nbformat_minor": 5
}
