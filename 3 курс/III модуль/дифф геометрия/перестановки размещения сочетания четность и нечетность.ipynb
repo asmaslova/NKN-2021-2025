{
 "cells": [
  {
   "cell_type": "code",
   "execution_count": 1,
   "metadata": {},
   "outputs": [],
   "source": [
    "import itertools\n",
    "import math\n",
    "import numpy as np\n",
    "\n",
    "def A(n, k):\n",
    "    # число размещений\n",
    "    return math.factorial(n) // math.factorial(n-k)\n",
    "\n",
    "def C(n, k):\n",
    "    # число сочетаний\n",
    "    return math.factorial(n) // (math.factorial(k) * math.factorial(n-k))"
   ]
  },
  {
   "cell_type": "code",
   "execution_count": 7,
   "metadata": {},
   "outputs": [],
   "source": [
    "l = [1, 2, 3, 4, \"hui\"]"
   ]
  },
  {
   "cell_type": "code",
   "execution_count": 8,
   "metadata": {},
   "outputs": [
    {
     "data": {
      "text/plain": [
       "[(1, 2, 3, 4, 'hui'),\n",
       " (1, 2, 3, 'hui', 4),\n",
       " (1, 2, 4, 3, 'hui'),\n",
       " (1, 2, 4, 'hui', 3),\n",
       " (1, 2, 'hui', 3, 4),\n",
       " (1, 2, 'hui', 4, 3),\n",
       " (1, 3, 2, 4, 'hui'),\n",
       " (1, 3, 2, 'hui', 4),\n",
       " (1, 3, 4, 2, 'hui'),\n",
       " (1, 3, 4, 'hui', 2),\n",
       " (1, 3, 'hui', 2, 4),\n",
       " (1, 3, 'hui', 4, 2),\n",
       " (1, 4, 2, 3, 'hui'),\n",
       " (1, 4, 2, 'hui', 3),\n",
       " (1, 4, 3, 2, 'hui'),\n",
       " (1, 4, 3, 'hui', 2),\n",
       " (1, 4, 'hui', 2, 3),\n",
       " (1, 4, 'hui', 3, 2),\n",
       " (1, 'hui', 2, 3, 4),\n",
       " (1, 'hui', 2, 4, 3),\n",
       " (1, 'hui', 3, 2, 4),\n",
       " (1, 'hui', 3, 4, 2),\n",
       " (1, 'hui', 4, 2, 3),\n",
       " (1, 'hui', 4, 3, 2),\n",
       " (2, 1, 3, 4, 'hui'),\n",
       " (2, 1, 3, 'hui', 4),\n",
       " (2, 1, 4, 3, 'hui'),\n",
       " (2, 1, 4, 'hui', 3),\n",
       " (2, 1, 'hui', 3, 4),\n",
       " (2, 1, 'hui', 4, 3),\n",
       " (2, 3, 1, 4, 'hui'),\n",
       " (2, 3, 1, 'hui', 4),\n",
       " (2, 3, 4, 1, 'hui'),\n",
       " (2, 3, 4, 'hui', 1),\n",
       " (2, 3, 'hui', 1, 4),\n",
       " (2, 3, 'hui', 4, 1),\n",
       " (2, 4, 1, 3, 'hui'),\n",
       " (2, 4, 1, 'hui', 3),\n",
       " (2, 4, 3, 1, 'hui'),\n",
       " (2, 4, 3, 'hui', 1),\n",
       " (2, 4, 'hui', 1, 3),\n",
       " (2, 4, 'hui', 3, 1),\n",
       " (2, 'hui', 1, 3, 4),\n",
       " (2, 'hui', 1, 4, 3),\n",
       " (2, 'hui', 3, 1, 4),\n",
       " (2, 'hui', 3, 4, 1),\n",
       " (2, 'hui', 4, 1, 3),\n",
       " (2, 'hui', 4, 3, 1),\n",
       " (3, 1, 2, 4, 'hui'),\n",
       " (3, 1, 2, 'hui', 4),\n",
       " (3, 1, 4, 2, 'hui'),\n",
       " (3, 1, 4, 'hui', 2),\n",
       " (3, 1, 'hui', 2, 4),\n",
       " (3, 1, 'hui', 4, 2),\n",
       " (3, 2, 1, 4, 'hui'),\n",
       " (3, 2, 1, 'hui', 4),\n",
       " (3, 2, 4, 1, 'hui'),\n",
       " (3, 2, 4, 'hui', 1),\n",
       " (3, 2, 'hui', 1, 4),\n",
       " (3, 2, 'hui', 4, 1),\n",
       " (3, 4, 1, 2, 'hui'),\n",
       " (3, 4, 1, 'hui', 2),\n",
       " (3, 4, 2, 1, 'hui'),\n",
       " (3, 4, 2, 'hui', 1),\n",
       " (3, 4, 'hui', 1, 2),\n",
       " (3, 4, 'hui', 2, 1),\n",
       " (3, 'hui', 1, 2, 4),\n",
       " (3, 'hui', 1, 4, 2),\n",
       " (3, 'hui', 2, 1, 4),\n",
       " (3, 'hui', 2, 4, 1),\n",
       " (3, 'hui', 4, 1, 2),\n",
       " (3, 'hui', 4, 2, 1),\n",
       " (4, 1, 2, 3, 'hui'),\n",
       " (4, 1, 2, 'hui', 3),\n",
       " (4, 1, 3, 2, 'hui'),\n",
       " (4, 1, 3, 'hui', 2),\n",
       " (4, 1, 'hui', 2, 3),\n",
       " (4, 1, 'hui', 3, 2),\n",
       " (4, 2, 1, 3, 'hui'),\n",
       " (4, 2, 1, 'hui', 3),\n",
       " (4, 2, 3, 1, 'hui'),\n",
       " (4, 2, 3, 'hui', 1),\n",
       " (4, 2, 'hui', 1, 3),\n",
       " (4, 2, 'hui', 3, 1),\n",
       " (4, 3, 1, 2, 'hui'),\n",
       " (4, 3, 1, 'hui', 2),\n",
       " (4, 3, 2, 1, 'hui'),\n",
       " (4, 3, 2, 'hui', 1),\n",
       " (4, 3, 'hui', 1, 2),\n",
       " (4, 3, 'hui', 2, 1),\n",
       " (4, 'hui', 1, 2, 3),\n",
       " (4, 'hui', 1, 3, 2),\n",
       " (4, 'hui', 2, 1, 3),\n",
       " (4, 'hui', 2, 3, 1),\n",
       " (4, 'hui', 3, 1, 2),\n",
       " (4, 'hui', 3, 2, 1),\n",
       " ('hui', 1, 2, 3, 4),\n",
       " ('hui', 1, 2, 4, 3),\n",
       " ('hui', 1, 3, 2, 4),\n",
       " ('hui', 1, 3, 4, 2),\n",
       " ('hui', 1, 4, 2, 3),\n",
       " ('hui', 1, 4, 3, 2),\n",
       " ('hui', 2, 1, 3, 4),\n",
       " ('hui', 2, 1, 4, 3),\n",
       " ('hui', 2, 3, 1, 4),\n",
       " ('hui', 2, 3, 4, 1),\n",
       " ('hui', 2, 4, 1, 3),\n",
       " ('hui', 2, 4, 3, 1),\n",
       " ('hui', 3, 1, 2, 4),\n",
       " ('hui', 3, 1, 4, 2),\n",
       " ('hui', 3, 2, 1, 4),\n",
       " ('hui', 3, 2, 4, 1),\n",
       " ('hui', 3, 4, 1, 2),\n",
       " ('hui', 3, 4, 2, 1),\n",
       " ('hui', 4, 1, 2, 3),\n",
       " ('hui', 4, 1, 3, 2),\n",
       " ('hui', 4, 2, 1, 3),\n",
       " ('hui', 4, 2, 3, 1),\n",
       " ('hui', 4, 3, 1, 2),\n",
       " ('hui', 4, 3, 2, 1)]"
      ]
     },
     "execution_count": 8,
     "metadata": {},
     "output_type": "execute_result"
    }
   ],
   "source": [
    "list(itertools.permutations(l)) # все возможные перестановки"
   ]
  },
  {
   "cell_type": "code",
   "execution_count": 4,
   "metadata": {},
   "outputs": [
    {
     "data": {
      "text/plain": [
       "[(1, 2),\n",
       " (1, 3),\n",
       " (1, 4),\n",
       " (2, 1),\n",
       " (2, 3),\n",
       " (2, 4),\n",
       " (3, 1),\n",
       " (3, 2),\n",
       " (3, 4),\n",
       " (4, 1),\n",
       " (4, 2),\n",
       " (4, 3)]"
      ]
     },
     "execution_count": 4,
     "metadata": {},
     "output_type": "execute_result"
    }
   ],
   "source": [
    "list(itertools.permutations(l, r=2)) # размещения"
   ]
  },
  {
   "cell_type": "code",
   "execution_count": 5,
   "metadata": {},
   "outputs": [
    {
     "data": {
      "text/plain": [
       "[(1, 2), (1, 3), (1, 4), (2, 3), (2, 4), (3, 4)]"
      ]
     },
     "execution_count": 5,
     "metadata": {},
     "output_type": "execute_result"
    }
   ],
   "source": [
    "list(itertools.combinations(l, r=2)) # все возможные сочетания"
   ]
  },
  {
   "cell_type": "code",
   "execution_count": 26,
   "metadata": {},
   "outputs": [],
   "source": [
    "a = np.array([1, 3, 4, 2])"
   ]
  },
  {
   "cell_type": "code",
   "execution_count": 24,
   "metadata": {},
   "outputs": [],
   "source": [
    "def par(permutations):\n",
    "    a = np.array(permutations)\n",
    "    p = 0 \n",
    "    for i in range(len(a)-1):\n",
    "        p += sum(a[i] > a[i+1:])\n",
    "    return (-1)**p"
   ]
  },
  {
   "cell_type": "code",
   "execution_count": 27,
   "metadata": {},
   "outputs": [
    {
     "data": {
      "text/plain": [
       "1"
      ]
     },
     "execution_count": 27,
     "metadata": {},
     "output_type": "execute_result"
    }
   ],
   "source": [
    "par(a)"
   ]
  },
  {
   "cell_type": "code",
   "execution_count": 30,
   "metadata": {},
   "outputs": [
    {
     "name": "stdout",
     "output_type": "stream",
     "text": [
      "('uwu', 'owo') : par = -1\n",
      "('owo', 'uwu') : par = 1\n"
     ]
    }
   ],
   "source": [
    "for p in itertools.permutations(['uwu', 'owo']):\n",
    "    print(f'{p} : par = {par(p)}')"
   ]
  },
  {
   "cell_type": "code",
   "execution_count": null,
   "metadata": {},
   "outputs": [],
   "source": []
  }
 ],
 "metadata": {
  "kernelspec": {
   "display_name": "base",
   "language": "python",
   "name": "python3"
  },
  "language_info": {
   "codemirror_mode": {
    "name": "ipython",
    "version": 3
   },
   "file_extension": ".py",
   "mimetype": "text/x-python",
   "name": "python",
   "nbconvert_exporter": "python",
   "pygments_lexer": "ipython3",
   "version": "3.11.5"
  }
 },
 "nbformat": 4,
 "nbformat_minor": 2
}
