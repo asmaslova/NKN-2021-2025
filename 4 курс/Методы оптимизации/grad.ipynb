{
 "cells": [
  {
   "cell_type": "code",
   "execution_count": 83,
   "metadata": {},
   "outputs": [],
   "source": [
    "import pandas as pd\n",
    "import numpy as np\n",
    "import sympy as sp\n",
    "import numdifftools as nd"
   ]
  },
  {
   "cell_type": "code",
   "execution_count": 23,
   "metadata": {},
   "outputs": [],
   "source": [
    "from sympy import *"
   ]
  },
  {
   "cell_type": "code",
   "execution_count": 44,
   "metadata": {},
   "outputs": [],
   "source": [
    "# Используем векторную запись точки.\n",
    "x0 = np.array([1.0, 0.0])\n",
    "t = 0.5\n",
    "epsilon = 0.1\n",
    "\n",
    "def f(x):\n",
    "    # f(x) = 0.5x^2 + 0.2y^2\n",
    "    return x[0]**2+2*x[1]**2-4*x[1]\n",
    "\n",
    "def grad_f(x):\n",
    "    return np.array([2*x[0], 4*x[1]-4])"
   ]
  },
  {
   "cell_type": "code",
   "execution_count": 53,
   "metadata": {},
   "outputs": [
    {
     "name": "stdout",
     "output_type": "stream",
     "text": [
      "[ 2. -4.]\n"
     ]
    }
   ],
   "source": [
    "print(grad_f(x0))"
   ]
  },
  {
   "cell_type": "code",
   "execution_count": 66,
   "metadata": {},
   "outputs": [],
   "source": [
    "def gradient_descent(x0, t, epsilon, m):\n",
    "    k = 0\n",
    "    x1 = x0 - t*grad_f(x0)\n",
    "    norm = sqrt((grad_f(x1)[0])**2+(grad_f(x1)[1])**2)\n",
    "    while (norm>epsilon):\n",
    "        if (k == m): \n",
    "            break\n",
    "        if (f(x1)>f(x0)): t = t/4\n",
    "        k = k+1\n",
    "        x0 = x1\n",
    "        x1 = x0 - t*grad_f(x0)\n",
    "        norm = sqrt((grad_f(x1)[0])**2+(grad_f(x1)[1])**2)\n",
    "        #print(k)\n",
    "        #print()\n",
    "        #print(x1[0], \"   \", x1[1])\n",
    "    if (k==m): \n",
    "        print (\"error\")\n",
    "        return nan\n",
    "    else: return x1"
   ]
  },
  {
   "cell_type": "code",
   "execution_count": 67,
   "metadata": {},
   "outputs": [
    {
     "name": "stdout",
     "output_type": "stream",
     "text": [
      "error\n"
     ]
    },
    {
     "data": {
      "text/latex": [
       "$\\displaystyle \\text{NaN}$"
      ],
      "text/plain": [
       "nan"
      ]
     },
     "execution_count": 67,
     "metadata": {},
     "output_type": "execute_result"
    }
   ],
   "source": [
    "gradient_descent(x0, t, epsilon, 100)"
   ]
  },
  {
   "cell_type": "code",
   "execution_count": 89,
   "metadata": {},
   "outputs": [],
   "source": [
    "def frange(start, stop, step=1.0):\n",
    "    ''' \"range()\" like function which accept float type''' \n",
    "    i = start\n",
    "    while i < stop:\n",
    "        yield i\n",
    "        i += step"
   ]
  },
  {
   "cell_type": "code",
   "execution_count": null,
   "metadata": {},
   "outputs": [],
   "source": [
    "def fastest_descent(x0, t, epsilon, m):\n",
    "    t_m = list(frange(0, 1, 0.01))\n",
    "    k = 0\n",
    "    x1 = x0 - t*grad_f(x0)\n",
    "    norm = sqrt((grad_f(x1)[0])**2+(grad_f(x1)[1])**2)\n",
    "    while (norm>epsilon):\n",
    "\n",
    "        \n",
    "    "
   ]
  },
  {
   "cell_type": "code",
   "execution_count": 86,
   "metadata": {},
   "outputs": [
    {
     "name": "stdout",
     "output_type": "stream",
     "text": [
      "<numdifftools.core.Gradient object at 0x00000198911CD7D0>\n"
     ]
    }
   ],
   "source": [
    "df = nd.Gradient(f)\n",
    "print(df)"
   ]
  },
  {
   "cell_type": "code",
   "execution_count": null,
   "metadata": {},
   "outputs": [],
   "source": []
  }
 ],
 "metadata": {
  "kernelspec": {
   "display_name": "base",
   "language": "python",
   "name": "python3"
  },
  "language_info": {
   "codemirror_mode": {
    "name": "ipython",
    "version": 3
   },
   "file_extension": ".py",
   "mimetype": "text/x-python",
   "name": "python",
   "nbconvert_exporter": "python",
   "pygments_lexer": "ipython3",
   "version": "3.11.5"
  }
 },
 "nbformat": 4,
 "nbformat_minor": 2
}
